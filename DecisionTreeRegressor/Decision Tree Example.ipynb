{
 "cells": [
  {
   "cell_type": "code",
   "execution_count": 1,
   "id": "36bb7e4c",
   "metadata": {},
   "outputs": [],
   "source": [
    "from regressiontree import TreeNode\n",
    "import pandas as pd\n",
    "import numpy as np\n",
    "from sklearn import datasets"
   ]
  },
  {
   "cell_type": "code",
   "execution_count": 2,
   "id": "8e9bcb27",
   "metadata": {},
   "outputs": [],
   "source": [
    "#import the data\n",
    "df = datasets.load_diabetes(as_frame=True)\n"
   ]
  },
  {
   "cell_type": "code",
   "execution_count": 3,
   "id": "8713d137",
   "metadata": {},
   "outputs": [],
   "source": [
    "x = df.data\n",
    "y = df.target.values.tolist()"
   ]
  },
  {
   "cell_type": "code",
   "execution_count": 4,
   "id": "80c1d135",
   "metadata": {},
   "outputs": [
    {
     "data": {
      "text/plain": [
       "152.13348416289594"
      ]
     },
     "execution_count": 4,
     "metadata": {},
     "output_type": "execute_result"
    }
   ],
   "source": [
    "np.mean(y)"
   ]
  },
  {
   "cell_type": "code",
   "execution_count": 5,
   "id": "e213a382",
   "metadata": {},
   "outputs": [],
   "source": [
    "dt = TreeNode(x, y, max_depth = 2)"
   ]
  },
  {
   "cell_type": "code",
   "execution_count": 6,
   "id": "a944b392",
   "metadata": {},
   "outputs": [
    {
     "name": "stdout",
     "output_type": "stream",
     "text": [
      "Root\n",
      "   | MSE of the node: 5929.88\n",
      "   | Count of observations in node: 442\n",
      "   | Prediction of node: 152.133\n",
      "|-------- Split rule: s5 <= -0.004\n",
      "           | MSE of the node: 3240.82\n",
      "           | Count of observations in node: 218\n",
      "           | Prediction of node: 109.986\n",
      "|---------------- Split rule: bmi <= 0.006\n",
      "                   | MSE of the node: 2143.97\n",
      "                   | Count of observations in node: 171\n",
      "                   | Prediction of node: 96.31\n",
      "|---------------- Split rule: bmi > 0.006\n",
      "                   | MSE of the node: 4075.08\n",
      "                   | Count of observations in node: 47\n",
      "                   | Prediction of node: 159.745\n",
      "|-------- Split rule: s5 > -0.004\n",
      "           | MSE of the node: 5135.61\n",
      "           | Count of observations in node: 224\n",
      "           | Prediction of node: 193.152\n",
      "|---------------- Split rule: bmi <= 0.015\n",
      "                   | MSE of the node: 4095.84\n",
      "                   | Count of observations in node: 116\n",
      "                   | Prediction of node: 162.681\n",
      "|---------------- Split rule: bmi > 0.015\n",
      "                   | MSE of the node: 4184.05\n",
      "                   | Count of observations in node: 108\n",
      "                   | Prediction of node: 225.88\n"
     ]
    }
   ],
   "source": [
    "#create the decision tree and fit it\n",
    "dt.fit()\n",
    "dt.print()\n"
   ]
  },
  {
   "cell_type": "code",
   "execution_count": 7,
   "id": "bb961d22",
   "metadata": {},
   "outputs": [
    {
     "data": {
      "text/plain": [
       "age    0.038076\n",
       "sex    0.050680\n",
       "bmi    0.061696\n",
       "bp     0.021872\n",
       "s1    -0.044223\n",
       "s2    -0.034821\n",
       "s3    -0.043401\n",
       "s4    -0.002592\n",
       "s5     0.019908\n",
       "s6    -0.017646\n",
       "Name: 0, dtype: float64"
      ]
     },
     "execution_count": 7,
     "metadata": {},
     "output_type": "execute_result"
    }
   ],
   "source": [
    "x.iloc[0]"
   ]
  },
  {
   "cell_type": "code",
   "execution_count": 9,
   "id": "2e2a9444",
   "metadata": {},
   "outputs": [
    {
     "name": "stdout",
     "output_type": "stream",
     "text": [
      "going to the right\n",
      "going to the right\n",
      "None\n"
     ]
    }
   ],
   "source": [
    "#predict one row of the dataframe\n",
    "#verify that predict_one works \n",
    "y_hat = dt.predict_one(x.iloc[0])\n",
    "print(y_hat)"
   ]
  },
  {
   "cell_type": "markdown",
   "id": "ca638072",
   "metadata": {},
   "source": [
    "**Why the predict function always returns None**\n",
    "\n",
    "I even tried to print the variable before returning it, and if I print it it works, if I return it doesn't"
   ]
  },
  {
   "cell_type": "markdown",
   "id": "bed35d7d",
   "metadata": {},
   "source": [
    "# Compare with sklearn implementation"
   ]
  },
  {
   "cell_type": "code",
   "execution_count": null,
   "id": "dfc584ed",
   "metadata": {},
   "outputs": [],
   "source": [
    "from sklearn.tree import DecisionTreeRegressor\n",
    "from sklearn import tree"
   ]
  },
  {
   "cell_type": "code",
   "execution_count": null,
   "id": "1c24f160",
   "metadata": {},
   "outputs": [
    {
     "data": {
      "text/plain": [
       "DecisionTreeRegressor(max_depth=2, min_samples_split=20)"
      ]
     },
     "execution_count": 25,
     "metadata": {},
     "output_type": "execute_result"
    }
   ],
   "source": [
    "dt1 = DecisionTreeRegressor(min_samples_split = 20, max_depth = 2) #same hyperparameters of our implementation\n",
    "dt1.fit(x,y)"
   ]
  },
  {
   "cell_type": "code",
   "execution_count": null,
   "id": "a7ee4609",
   "metadata": {},
   "outputs": [
    {
     "name": "stdout",
     "output_type": "stream",
     "text": [
      "|--- feature_8 <= -0.00\n",
      "|   |--- feature_2 <= 0.01\n",
      "|   |   |--- value: [96.31]\n",
      "|   |--- feature_2 >  0.01\n",
      "|   |   |--- value: [159.74]\n",
      "|--- feature_8 >  -0.00\n",
      "|   |--- feature_2 <= 0.01\n",
      "|   |   |--- value: [162.68]\n",
      "|   |--- feature_2 >  0.01\n",
      "|   |   |--- value: [225.88]\n",
      "\n"
     ]
    }
   ],
   "source": [
    "text_representation = tree.export_text(dt1)\n",
    "print(text_representation)"
   ]
  },
  {
   "cell_type": "markdown",
   "id": "c0c314c7",
   "metadata": {},
   "source": [
    "As we can see the splits and the predictions of the leafs are the same as in the sklearn implementation"
   ]
  }
 ],
 "metadata": {
  "kernelspec": {
   "display_name": "Python 3",
   "language": "python",
   "name": "python3"
  },
  "language_info": {
   "codemirror_mode": {
    "name": "ipython",
    "version": 3
   },
   "file_extension": ".py",
   "mimetype": "text/x-python",
   "name": "python",
   "nbconvert_exporter": "python",
   "pygments_lexer": "ipython3",
   "version": "3.8.8"
  }
 },
 "nbformat": 4,
 "nbformat_minor": 5
}
