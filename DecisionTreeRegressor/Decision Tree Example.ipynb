{
 "cells": [
  {
   "cell_type": "code",
   "execution_count": 1,
   "id": "36bb7e4c",
   "metadata": {},
   "outputs": [],
   "source": [
    "from regressiontree import TreeNode\n",
    "import pandas as pd\n",
    "import numpy as np\n",
    "from sklearn import datasets"
   ]
  },
  {
   "cell_type": "code",
   "execution_count": 2,
   "id": "8e9bcb27",
   "metadata": {},
   "outputs": [],
   "source": [
    "#import the data\n",
    "data = datasets.load_diabetes(as_frame = True)\n",
    "X, Y = data.data, data.target.values.tolist()"
   ]
  },
  {
   "cell_type": "code",
   "execution_count": 3,
   "id": "e41cc1a7",
   "metadata": {},
   "outputs": [
    {
     "data": {
      "text/html": [
       "<div>\n",
       "<style scoped>\n",
       "    .dataframe tbody tr th:only-of-type {\n",
       "        vertical-align: middle;\n",
       "    }\n",
       "\n",
       "    .dataframe tbody tr th {\n",
       "        vertical-align: top;\n",
       "    }\n",
       "\n",
       "    .dataframe thead th {\n",
       "        text-align: right;\n",
       "    }\n",
       "</style>\n",
       "<table border=\"1\" class=\"dataframe\">\n",
       "  <thead>\n",
       "    <tr style=\"text-align: right;\">\n",
       "      <th></th>\n",
       "      <th>age</th>\n",
       "      <th>sex</th>\n",
       "      <th>bmi</th>\n",
       "      <th>bp</th>\n",
       "      <th>s1</th>\n",
       "      <th>s2</th>\n",
       "      <th>s3</th>\n",
       "      <th>s4</th>\n",
       "      <th>s5</th>\n",
       "      <th>s6</th>\n",
       "    </tr>\n",
       "  </thead>\n",
       "  <tbody>\n",
       "    <tr>\n",
       "      <th>0</th>\n",
       "      <td>0.038076</td>\n",
       "      <td>0.050680</td>\n",
       "      <td>0.061696</td>\n",
       "      <td>0.021872</td>\n",
       "      <td>-0.044223</td>\n",
       "      <td>-0.034821</td>\n",
       "      <td>-0.043401</td>\n",
       "      <td>-0.002592</td>\n",
       "      <td>0.019908</td>\n",
       "      <td>-0.017646</td>\n",
       "    </tr>\n",
       "    <tr>\n",
       "      <th>1</th>\n",
       "      <td>-0.001882</td>\n",
       "      <td>-0.044642</td>\n",
       "      <td>-0.051474</td>\n",
       "      <td>-0.026328</td>\n",
       "      <td>-0.008449</td>\n",
       "      <td>-0.019163</td>\n",
       "      <td>0.074412</td>\n",
       "      <td>-0.039493</td>\n",
       "      <td>-0.068330</td>\n",
       "      <td>-0.092204</td>\n",
       "    </tr>\n",
       "    <tr>\n",
       "      <th>2</th>\n",
       "      <td>0.085299</td>\n",
       "      <td>0.050680</td>\n",
       "      <td>0.044451</td>\n",
       "      <td>-0.005671</td>\n",
       "      <td>-0.045599</td>\n",
       "      <td>-0.034194</td>\n",
       "      <td>-0.032356</td>\n",
       "      <td>-0.002592</td>\n",
       "      <td>0.002864</td>\n",
       "      <td>-0.025930</td>\n",
       "    </tr>\n",
       "    <tr>\n",
       "      <th>3</th>\n",
       "      <td>-0.089063</td>\n",
       "      <td>-0.044642</td>\n",
       "      <td>-0.011595</td>\n",
       "      <td>-0.036656</td>\n",
       "      <td>0.012191</td>\n",
       "      <td>0.024991</td>\n",
       "      <td>-0.036038</td>\n",
       "      <td>0.034309</td>\n",
       "      <td>0.022692</td>\n",
       "      <td>-0.009362</td>\n",
       "    </tr>\n",
       "    <tr>\n",
       "      <th>4</th>\n",
       "      <td>0.005383</td>\n",
       "      <td>-0.044642</td>\n",
       "      <td>-0.036385</td>\n",
       "      <td>0.021872</td>\n",
       "      <td>0.003935</td>\n",
       "      <td>0.015596</td>\n",
       "      <td>0.008142</td>\n",
       "      <td>-0.002592</td>\n",
       "      <td>-0.031991</td>\n",
       "      <td>-0.046641</td>\n",
       "    </tr>\n",
       "  </tbody>\n",
       "</table>\n",
       "</div>"
      ],
      "text/plain": [
       "        age       sex       bmi        bp        s1        s2        s3  \\\n",
       "0  0.038076  0.050680  0.061696  0.021872 -0.044223 -0.034821 -0.043401   \n",
       "1 -0.001882 -0.044642 -0.051474 -0.026328 -0.008449 -0.019163  0.074412   \n",
       "2  0.085299  0.050680  0.044451 -0.005671 -0.045599 -0.034194 -0.032356   \n",
       "3 -0.089063 -0.044642 -0.011595 -0.036656  0.012191  0.024991 -0.036038   \n",
       "4  0.005383 -0.044642 -0.036385  0.021872  0.003935  0.015596  0.008142   \n",
       "\n",
       "         s4        s5        s6  \n",
       "0 -0.002592  0.019908 -0.017646  \n",
       "1 -0.039493 -0.068330 -0.092204  \n",
       "2 -0.002592  0.002864 -0.025930  \n",
       "3  0.034309  0.022692 -0.009362  \n",
       "4 -0.002592 -0.031991 -0.046641  "
      ]
     },
     "execution_count": 3,
     "metadata": {},
     "output_type": "execute_result"
    }
   ],
   "source": [
    "X.head()"
   ]
  },
  {
   "cell_type": "code",
   "execution_count": 4,
   "id": "a944b392",
   "metadata": {},
   "outputs": [
    {
     "name": "stdout",
     "output_type": "stream",
     "text": [
      "Root\n",
      "   | MSE of the node: 5929.88\n",
      "   | Count of observations in node: 442\n",
      "   | Prediction of node: 152.133\n",
      "|-------- Split rule: s5 <= -0.004\n",
      "           | MSE of the node: 3240.82\n",
      "           | Count of observations in node: 218\n",
      "           | Prediction of node: 109.986\n",
      "|---------------- Split rule: bmi <= 0.006\n",
      "                   | MSE of the node: 2143.97\n",
      "                   | Count of observations in node: 171\n",
      "                   | Prediction of node: 96.31\n",
      "|---------------- Split rule: bmi > 0.006\n",
      "                   | MSE of the node: 4075.08\n",
      "                   | Count of observations in node: 47\n",
      "                   | Prediction of node: 159.745\n",
      "|-------- Split rule: s5 > -0.004\n",
      "           | MSE of the node: 5135.61\n",
      "           | Count of observations in node: 224\n",
      "           | Prediction of node: 193.152\n",
      "|---------------- Split rule: bmi <= 0.015\n",
      "                   | MSE of the node: 4095.84\n",
      "                   | Count of observations in node: 116\n",
      "                   | Prediction of node: 162.681\n",
      "|---------------- Split rule: bmi > 0.015\n",
      "                   | MSE of the node: 4184.05\n",
      "                   | Count of observations in node: 108\n",
      "                   | Prediction of node: 225.88\n"
     ]
    }
   ],
   "source": [
    "#create the decision tree and fit it\n",
    "dt = TreeNode(X, Y, max_depth =2)\n",
    "dt.fit()\n",
    "dt.print()"
   ]
  },
  {
   "cell_type": "code",
   "execution_count": 5,
   "id": "bb961d22",
   "metadata": {},
   "outputs": [
    {
     "data": {
      "text/plain": [
       "age    0.038076\n",
       "sex    0.050680\n",
       "bmi    0.061696\n",
       "bp     0.021872\n",
       "s1    -0.044223\n",
       "s2    -0.034821\n",
       "s3    -0.043401\n",
       "s4    -0.002592\n",
       "s5     0.019908\n",
       "s6    -0.017646\n",
       "Name: 0, dtype: float64"
      ]
     },
     "execution_count": 5,
     "metadata": {},
     "output_type": "execute_result"
    }
   ],
   "source": [
    "X.iloc[0]"
   ]
  },
  {
   "cell_type": "code",
   "execution_count": 6,
   "id": "2e2a9444",
   "metadata": {},
   "outputs": [
    {
     "name": "stdout",
     "output_type": "stream",
     "text": [
      "going to the right\n",
      "going to the right\n",
      "None\n"
     ]
    }
   ],
   "source": [
    "#predict one row of the dataframe\n",
    "#verify that predict_one works \n",
    "y_hat = dt.predict_one(X.iloc[0])\n",
    "print(y_hat)"
   ]
  },
  {
   "cell_type": "markdown",
   "id": "bed35d7d",
   "metadata": {},
   "source": [
    "# Compare with sklearn implementation"
   ]
  },
  {
   "cell_type": "code",
   "execution_count": 7,
   "id": "dfc584ed",
   "metadata": {},
   "outputs": [],
   "source": [
    "from sklearn.tree import DecisionTreeRegressor\n",
    "from sklearn import tree"
   ]
  },
  {
   "cell_type": "code",
   "execution_count": 8,
   "id": "1c24f160",
   "metadata": {},
   "outputs": [
    {
     "data": {
      "text/plain": [
       "DecisionTreeRegressor(max_depth=2, min_samples_split=20)"
      ]
     },
     "execution_count": 8,
     "metadata": {},
     "output_type": "execute_result"
    }
   ],
   "source": [
    "dt1 = DecisionTreeRegressor(min_samples_split = 20, max_depth = 2) #same hyperparameters of our implementation\n",
    "dt1.fit(X,Y)"
   ]
  },
  {
   "cell_type": "code",
   "execution_count": 9,
   "id": "a7ee4609",
   "metadata": {},
   "outputs": [
    {
     "name": "stdout",
     "output_type": "stream",
     "text": [
      "|--- feature_8 <= -0.00\n",
      "|   |--- feature_2 <= 0.01\n",
      "|   |   |--- value: [96.31]\n",
      "|   |--- feature_2 >  0.01\n",
      "|   |   |--- value: [159.74]\n",
      "|--- feature_8 >  -0.00\n",
      "|   |--- feature_2 <= 0.01\n",
      "|   |   |--- value: [162.68]\n",
      "|   |--- feature_2 >  0.01\n",
      "|   |   |--- value: [225.88]\n",
      "\n"
     ]
    }
   ],
   "source": [
    "text_representation = tree.export_text(dt1)\n",
    "print(text_representation)"
   ]
  },
  {
   "cell_type": "code",
   "execution_count": 10,
   "id": "8152fcc5",
   "metadata": {},
   "outputs": [
    {
     "data": {
      "text/plain": [
       "225.87962962962962"
      ]
     },
     "execution_count": 10,
     "metadata": {},
     "output_type": "execute_result"
    }
   ],
   "source": [
    "dt1.predict(X)[0]"
   ]
  },
  {
   "cell_type": "markdown",
   "id": "c0c314c7",
   "metadata": {},
   "source": [
    "As we can see the splits and the predictions of the leafs are the same as in the sklearn implementation"
   ]
  }
 ],
 "metadata": {
  "kernelspec": {
   "display_name": "Python 3",
   "language": "python",
   "name": "python3"
  },
  "language_info": {
   "codemirror_mode": {
    "name": "ipython",
    "version": 3
   },
   "file_extension": ".py",
   "mimetype": "text/x-python",
   "name": "python",
   "nbconvert_exporter": "python",
   "pygments_lexer": "ipython3",
   "version": "3.8.8"
  }
 },
 "nbformat": 4,
 "nbformat_minor": 5
}
