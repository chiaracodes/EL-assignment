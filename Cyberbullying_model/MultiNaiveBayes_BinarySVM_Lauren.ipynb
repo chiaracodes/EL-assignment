{
 "cells": [
  {
   "cell_type": "code",
   "execution_count": 13,
   "id": "32d65c9c",
   "metadata": {},
   "outputs": [],
   "source": [
    "#! pip install unidecode\n",
    "#! pip install contractions\n",
    "\n",
    "import numpy as np\n",
    "import pandas as pd\n",
    "import sys\n",
    "import spacy\n",
    "import re, string, unicodedata\n",
    "import nltk\n",
    "\n",
    "import matplotlib.pyplot as plt\n",
    "import seaborn as sns\n",
    "\n",
    "from nltk.stem.porter import PorterStemmer\n",
    "from nltk import word_tokenize, sent_tokenize\n",
    "from nltk.corpus import stopwords, wordnet\n",
    "from nltk.stem import LancasterStemmer, WordNetLemmatizer\n",
    "\n",
    "from unidecode import unidecode\n",
    "from sklearn.feature_extraction.text import TfidfVectorizer\n",
    "\n",
    "from sklearn.model_selection import train_test_split, GridSearchCV\n",
    "from sklearn.feature_extraction.text import CountVectorizer\n",
    "from sklearn.metrics import f1_score, accuracy_score, precision_score, recall_score, make_scorer\n",
    "from time import time\n",
    "\n",
    "from sklearn import metrics\n",
    "from sklearn.naive_bayes import MultinomialNB\n",
    "from sklearn.tree import DecisionTreeClassifier\n",
    "from sklearn.svm import LinearSVC\n",
    "from sklearn.ensemble import AdaBoostClassifier, RandomForestClassifier, BaggingClassifier\n",
    "from sklearn.linear_model import LogisticRegression, SGDClassifier\n",
    "from sklearn.neighbors import KNeighborsClassifier\n",
    "from sklearn.preprocessing import OneHotEncoder\n",
    "\n",
    "\n",
    "from sklearn.ensemble import BaggingClassifier\n",
    "from sklearn.neighbors import KNeighborsClassifier\n",
    "from sklearn.model_selection import cross_val_score\n",
    "from sklearn.model_selection import RepeatedStratifiedKFold"
   ]
  },
  {
   "cell_type": "code",
   "execution_count": 22,
   "id": "8b724c25",
   "metadata": {},
   "outputs": [
    {
     "name": "stdout",
     "output_type": "stream",
     "text": [
      "/Users/laurenyoshizuka/opt/anaconda3/bin/python\n"
     ]
    }
   ],
   "source": [
    "# for when the notebook is being a little b and wont install libraries\n",
    "\n",
    "# check where python is located\n",
    "import sys\n",
    "print(sys.executable)"
   ]
  },
  {
   "cell_type": "code",
   "execution_count": null,
   "id": "c82edd56",
   "metadata": {},
   "outputs": [],
   "source": [
    "# download libraries to where python lives\n",
    "!/Users/laurenyoshizuka/opt/anaconda3/bin/python -m pip install lightgbm"
   ]
  },
  {
   "cell_type": "markdown",
   "id": "be1cad9a",
   "metadata": {},
   "source": [
    "# load & explore data"
   ]
  },
  {
   "cell_type": "code",
   "execution_count": 2,
   "id": "7596dd74",
   "metadata": {},
   "outputs": [],
   "source": [
    "data = pd.read_csv(\"/Users/laurenyoshizuka/Library/Mobile Documents/com~apple~CloudDocs/1_CentraleSupelec/Y2/Ensemble Learning/Project/cyberbullying_tweets.csv\")"
   ]
  },
  {
   "cell_type": "code",
   "execution_count": 163,
   "id": "4fda9c2c",
   "metadata": {},
   "outputs": [
    {
     "data": {
      "text/html": [
       "<div>\n",
       "<style scoped>\n",
       "    .dataframe tbody tr th:only-of-type {\n",
       "        vertical-align: middle;\n",
       "    }\n",
       "\n",
       "    .dataframe tbody tr th {\n",
       "        vertical-align: top;\n",
       "    }\n",
       "\n",
       "    .dataframe thead th {\n",
       "        text-align: right;\n",
       "    }\n",
       "</style>\n",
       "<table border=\"1\" class=\"dataframe\">\n",
       "  <thead>\n",
       "    <tr style=\"text-align: right;\">\n",
       "      <th></th>\n",
       "      <th>tweet_text</th>\n",
       "      <th>cyberbullying_type</th>\n",
       "    </tr>\n",
       "  </thead>\n",
       "  <tbody>\n",
       "    <tr>\n",
       "      <th>0</th>\n",
       "      <td>In other words #katandandre, your food was cra...</td>\n",
       "      <td>not_cyberbullying</td>\n",
       "    </tr>\n",
       "    <tr>\n",
       "      <th>1</th>\n",
       "      <td>Why is #aussietv so white? #MKR #theblock #ImA...</td>\n",
       "      <td>not_cyberbullying</td>\n",
       "    </tr>\n",
       "    <tr>\n",
       "      <th>2</th>\n",
       "      <td>@XochitlSuckkks a classy whore? Or more red ve...</td>\n",
       "      <td>not_cyberbullying</td>\n",
       "    </tr>\n",
       "    <tr>\n",
       "      <th>3</th>\n",
       "      <td>@Jason_Gio meh. :P  thanks for the heads up, b...</td>\n",
       "      <td>not_cyberbullying</td>\n",
       "    </tr>\n",
       "    <tr>\n",
       "      <th>4</th>\n",
       "      <td>@RudhoeEnglish This is an ISIS account pretend...</td>\n",
       "      <td>not_cyberbullying</td>\n",
       "    </tr>\n",
       "  </tbody>\n",
       "</table>\n",
       "</div>"
      ],
      "text/plain": [
       "                                          tweet_text cyberbullying_type\n",
       "0  In other words #katandandre, your food was cra...  not_cyberbullying\n",
       "1  Why is #aussietv so white? #MKR #theblock #ImA...  not_cyberbullying\n",
       "2  @XochitlSuckkks a classy whore? Or more red ve...  not_cyberbullying\n",
       "3  @Jason_Gio meh. :P  thanks for the heads up, b...  not_cyberbullying\n",
       "4  @RudhoeEnglish This is an ISIS account pretend...  not_cyberbullying"
      ]
     },
     "execution_count": 163,
     "metadata": {},
     "output_type": "execute_result"
    }
   ],
   "source": [
    "data.head()"
   ]
  },
  {
   "cell_type": "code",
   "execution_count": 121,
   "id": "0a8c09ad",
   "metadata": {},
   "outputs": [
    {
     "data": {
      "text/plain": [
       "religion               7998\n",
       "age                    7992\n",
       "gender                 7973\n",
       "ethnicity              7961\n",
       "not_cyberbullying      7945\n",
       "other_cyberbullying    7823\n",
       "Name: cyberbullying_type, dtype: int64"
      ]
     },
     "execution_count": 121,
     "metadata": {},
     "output_type": "execute_result"
    }
   ],
   "source": [
    "# dependent variable distributions\n",
    "data['cyberbullying_type'].value_counts()"
   ]
  },
  {
   "cell_type": "markdown",
   "id": "cda07970",
   "metadata": {},
   "source": [
    "labels a fairly balanced"
   ]
  },
  {
   "cell_type": "code",
   "execution_count": 122,
   "id": "f95dcc73",
   "metadata": {},
   "outputs": [
    {
     "data": {
      "image/png": "[encoded data removed]",
      "text/plain": [
       "<Figure size 504x504 with 1 Axes>"
      ]
     },
     "metadata": {},
     "output_type": "display_data"
    }
   ],
   "source": [
    "plt.figure(figsize = (7,7))\n",
    "sorted_counts = data['cyberbullying_type'].value_counts()\n",
    "plt.pie(sorted_counts, labels = sorted_counts.index, startangle = 90, counterclock = False, wedgeprops = {'width' : 0.6},\n",
    "       autopct='%1.1f%%', pctdistance = 0.7, textprops = {'color': 'black', 'fontsize' : 15}, shadow = True,\n",
    "        colors = sns.color_palette(\"Paired\")[1:])\n",
    "plt.text(x = -0.35, y = 0, s = 'Total Tweets: {}'.format(data.shape[0]))\n",
    "plt.title('Distribution of Tweets in the Dataset', fontsize = 16);"
   ]
  },
  {
   "cell_type": "markdown",
   "id": "86910605",
   "metadata": {},
   "source": [
    "# preprocessing"
   ]
  },
  {
   "cell_type": "code",
   "execution_count": 3,
   "id": "07fd825a",
   "metadata": {},
   "outputs": [
    {
     "ename": "KeyboardInterrupt",
     "evalue": "",
     "output_type": "error",
     "traceback": [
      "\u001b[0;31m---------------------------------------------------------------------------\u001b[0m",
      "\u001b[0;31mKeyboardInterrupt\u001b[0m                         Traceback (most recent call last)",
      "\u001b[0;32m/var/folders/2c/4kxrn_jj1ls25rmz1fr2cz380000gn/T/ipykernel_57424/2278377162.py\u001b[0m in \u001b[0;36m<module>\u001b[0;34m\u001b[0m\n\u001b[1;32m     26\u001b[0m     \u001b[0;32mreturn\u001b[0m \u001b[0mtweet\u001b[0m\u001b[0;34m\u001b[0m\u001b[0;34m\u001b[0m\u001b[0m\n\u001b[1;32m     27\u001b[0m \u001b[0;31m#applying function to the column\u001b[0m\u001b[0;34m\u001b[0m\u001b[0;34m\u001b[0m\u001b[0;34m\u001b[0m\u001b[0m\n\u001b[0;32m---> 28\u001b[0;31m \u001b[0mdata\u001b[0m\u001b[0;34m[\u001b[0m\u001b[0;34m'tokenized_tweet'\u001b[0m\u001b[0;34m]\u001b[0m\u001b[0;34m=\u001b[0m \u001b[0mdata\u001b[0m\u001b[0;34m[\u001b[0m\u001b[0;34m'clean_tweet2'\u001b[0m\u001b[0;34m]\u001b[0m\u001b[0;34m.\u001b[0m\u001b[0mapply\u001b[0m\u001b[0;34m(\u001b[0m\u001b[0;32mlambda\u001b[0m \u001b[0mx\u001b[0m\u001b[0;34m:\u001b[0m \u001b[0mtokenization\u001b[0m\u001b[0;34m(\u001b[0m\u001b[0mx\u001b[0m\u001b[0;34m)\u001b[0m\u001b[0;34m)\u001b[0m\u001b[0;34m\u001b[0m\u001b[0;34m\u001b[0m\u001b[0m\n\u001b[0m\u001b[1;32m     29\u001b[0m \u001b[0;34m\u001b[0m\u001b[0m\n\u001b[1;32m     30\u001b[0m \u001b[0;31m# stopword removal\u001b[0m\u001b[0;34m\u001b[0m\u001b[0;34m\u001b[0m\u001b[0;34m\u001b[0m\u001b[0m\n",
      "\u001b[0;32m~/opt/anaconda3/lib/python3.7/site-packages/pandas/core/series.py\u001b[0m in \u001b[0;36mapply\u001b[0;34m(self, func, convert_dtype, args, **kwargs)\u001b[0m\n\u001b[1;32m   4355\u001b[0m         \u001b[0mdtype\u001b[0m\u001b[0;34m:\u001b[0m \u001b[0mfloat64\u001b[0m\u001b[0;34m\u001b[0m\u001b[0;34m\u001b[0m\u001b[0m\n\u001b[1;32m   4356\u001b[0m         \"\"\"\n\u001b[0;32m-> 4357\u001b[0;31m         \u001b[0;32mreturn\u001b[0m \u001b[0mSeriesApply\u001b[0m\u001b[0;34m(\u001b[0m\u001b[0mself\u001b[0m\u001b[0;34m,\u001b[0m \u001b[0mfunc\u001b[0m\u001b[0;34m,\u001b[0m \u001b[0mconvert_dtype\u001b[0m\u001b[0;34m,\u001b[0m \u001b[0margs\u001b[0m\u001b[0;34m,\u001b[0m \u001b[0mkwargs\u001b[0m\u001b[0;34m)\u001b[0m\u001b[0;34m.\u001b[0m\u001b[0mapply\u001b[0m\u001b[0;34m(\u001b[0m\u001b[0;34m)\u001b[0m\u001b[0;34m\u001b[0m\u001b[0;34m\u001b[0m\u001b[0m\n\u001b[0m\u001b[1;32m   4358\u001b[0m \u001b[0;34m\u001b[0m\u001b[0m\n\u001b[1;32m   4359\u001b[0m     def _reduce(\n",
      "\u001b[0;32m~/opt/anaconda3/lib/python3.7/site-packages/pandas/core/apply.py\u001b[0m in \u001b[0;36mapply\u001b[0;34m(self)\u001b[0m\n\u001b[1;32m   1041\u001b[0m             \u001b[0;32mreturn\u001b[0m \u001b[0mself\u001b[0m\u001b[0;34m.\u001b[0m\u001b[0mapply_str\u001b[0m\u001b[0;34m(\u001b[0m\u001b[0;34m)\u001b[0m\u001b[0;34m\u001b[0m\u001b[0;34m\u001b[0m\u001b[0m\n\u001b[1;32m   1042\u001b[0m \u001b[0;34m\u001b[0m\u001b[0m\n\u001b[0;32m-> 1043\u001b[0;31m         \u001b[0;32mreturn\u001b[0m \u001b[0mself\u001b[0m\u001b[0;34m.\u001b[0m\u001b[0mapply_standard\u001b[0m\u001b[0;34m(\u001b[0m\u001b[0;34m)\u001b[0m\u001b[0;34m\u001b[0m\u001b[0;34m\u001b[0m\u001b[0m\n\u001b[0m\u001b[1;32m   1044\u001b[0m \u001b[0;34m\u001b[0m\u001b[0m\n\u001b[1;32m   1045\u001b[0m     \u001b[0;32mdef\u001b[0m \u001b[0magg\u001b[0m\u001b[0;34m(\u001b[0m\u001b[0mself\u001b[0m\u001b[0;34m)\u001b[0m\u001b[0;34m:\u001b[0m\u001b[0;34m\u001b[0m\u001b[0;34m\u001b[0m\u001b[0m\n",
      "\u001b[0;32m~/opt/anaconda3/lib/python3.7/site-packages/pandas/core/apply.py\u001b[0m in \u001b[0;36mapply_standard\u001b[0;34m(self)\u001b[0m\n\u001b[1;32m   1100\u001b[0m                     \u001b[0mvalues\u001b[0m\u001b[0;34m,\u001b[0m\u001b[0;34m\u001b[0m\u001b[0;34m\u001b[0m\u001b[0m\n\u001b[1;32m   1101\u001b[0m                     \u001b[0mf\u001b[0m\u001b[0;34m,\u001b[0m  \u001b[0;31m# type: ignore[arg-type]\u001b[0m\u001b[0;34m\u001b[0m\u001b[0;34m\u001b[0m\u001b[0m\n\u001b[0;32m-> 1102\u001b[0;31m                     \u001b[0mconvert\u001b[0m\u001b[0;34m=\u001b[0m\u001b[0mself\u001b[0m\u001b[0;34m.\u001b[0m\u001b[0mconvert_dtype\u001b[0m\u001b[0;34m,\u001b[0m\u001b[0;34m\u001b[0m\u001b[0;34m\u001b[0m\u001b[0m\n\u001b[0m\u001b[1;32m   1103\u001b[0m                 )\n\u001b[1;32m   1104\u001b[0m \u001b[0;34m\u001b[0m\u001b[0m\n",
      "\u001b[0;32m~/opt/anaconda3/lib/python3.7/site-packages/pandas/_libs/lib.pyx\u001b[0m in \u001b[0;36mpandas._libs.lib.map_infer\u001b[0;34m()\u001b[0m\n",
      "\u001b[0;32m/var/folders/2c/4kxrn_jj1ls25rmz1fr2cz380000gn/T/ipykernel_57424/2278377162.py\u001b[0m in \u001b[0;36m<lambda>\u001b[0;34m(x)\u001b[0m\n\u001b[1;32m     26\u001b[0m     \u001b[0;32mreturn\u001b[0m \u001b[0mtweet\u001b[0m\u001b[0;34m\u001b[0m\u001b[0;34m\u001b[0m\u001b[0m\n\u001b[1;32m     27\u001b[0m \u001b[0;31m#applying function to the column\u001b[0m\u001b[0;34m\u001b[0m\u001b[0;34m\u001b[0m\u001b[0;34m\u001b[0m\u001b[0m\n\u001b[0;32m---> 28\u001b[0;31m \u001b[0mdata\u001b[0m\u001b[0;34m[\u001b[0m\u001b[0;34m'tokenized_tweet'\u001b[0m\u001b[0;34m]\u001b[0m\u001b[0;34m=\u001b[0m \u001b[0mdata\u001b[0m\u001b[0;34m[\u001b[0m\u001b[0;34m'clean_tweet2'\u001b[0m\u001b[0;34m]\u001b[0m\u001b[0;34m.\u001b[0m\u001b[0mapply\u001b[0m\u001b[0;34m(\u001b[0m\u001b[0;32mlambda\u001b[0m \u001b[0mx\u001b[0m\u001b[0;34m:\u001b[0m \u001b[0mtokenization\u001b[0m\u001b[0;34m(\u001b[0m\u001b[0mx\u001b[0m\u001b[0;34m)\u001b[0m\u001b[0;34m)\u001b[0m\u001b[0;34m\u001b[0m\u001b[0;34m\u001b[0m\u001b[0m\n\u001b[0m\u001b[1;32m     29\u001b[0m \u001b[0;34m\u001b[0m\u001b[0m\n\u001b[1;32m     30\u001b[0m \u001b[0;31m# stopword removal\u001b[0m\u001b[0;34m\u001b[0m\u001b[0;34m\u001b[0m\u001b[0;34m\u001b[0m\u001b[0m\n",
      "\u001b[0;32m/var/folders/2c/4kxrn_jj1ls25rmz1fr2cz380000gn/T/ipykernel_57424/2278377162.py\u001b[0m in \u001b[0;36mtokenization\u001b[0;34m(text)\u001b[0m\n\u001b[1;32m     22\u001b[0m \u001b[0;32mdef\u001b[0m \u001b[0mtokenization\u001b[0m\u001b[0;34m(\u001b[0m\u001b[0mtext\u001b[0m\u001b[0;34m)\u001b[0m\u001b[0;34m:\u001b[0m\u001b[0;34m\u001b[0m\u001b[0;34m\u001b[0m\u001b[0m\n\u001b[1;32m     23\u001b[0m     \u001b[0;31m#tokens = re.split('W+',text)\u001b[0m\u001b[0;34m\u001b[0m\u001b[0;34m\u001b[0m\u001b[0;34m\u001b[0m\u001b[0m\n\u001b[0;32m---> 24\u001b[0;31m     \u001b[0mtokens\u001b[0m \u001b[0;34m=\u001b[0m \u001b[0mword_tokenize\u001b[0m\u001b[0;34m(\u001b[0m\u001b[0mtext\u001b[0m\u001b[0;34m)\u001b[0m\u001b[0;34m\u001b[0m\u001b[0;34m\u001b[0m\u001b[0m\n\u001b[0m\u001b[1;32m     25\u001b[0m     \u001b[0mtweet\u001b[0m \u001b[0;34m=\u001b[0m \u001b[0;34m[\u001b[0m\u001b[0mi\u001b[0m \u001b[0;32mfor\u001b[0m \u001b[0mi\u001b[0m \u001b[0;32min\u001b[0m \u001b[0mtokens\u001b[0m\u001b[0;34m]\u001b[0m\u001b[0;34m\u001b[0m\u001b[0;34m\u001b[0m\u001b[0m\n\u001b[1;32m     26\u001b[0m     \u001b[0;32mreturn\u001b[0m \u001b[0mtweet\u001b[0m\u001b[0;34m\u001b[0m\u001b[0;34m\u001b[0m\u001b[0m\n",
      "\u001b[0;32m~/opt/anaconda3/lib/python3.7/site-packages/nltk/tokenize/__init__.py\u001b[0m in \u001b[0;36mword_tokenize\u001b[0;34m(text, language, preserve_line)\u001b[0m\n\u001b[1;32m    127\u001b[0m     \u001b[0;34m:\u001b[0m\u001b[0mtype\u001b[0m \u001b[0mpreserve_line\u001b[0m\u001b[0;34m:\u001b[0m \u001b[0mbool\u001b[0m\u001b[0;34m\u001b[0m\u001b[0;34m\u001b[0m\u001b[0m\n\u001b[1;32m    128\u001b[0m     \"\"\"\n\u001b[0;32m--> 129\u001b[0;31m     \u001b[0msentences\u001b[0m \u001b[0;34m=\u001b[0m \u001b[0;34m[\u001b[0m\u001b[0mtext\u001b[0m\u001b[0;34m]\u001b[0m \u001b[0;32mif\u001b[0m \u001b[0mpreserve_line\u001b[0m \u001b[0;32melse\u001b[0m \u001b[0msent_tokenize\u001b[0m\u001b[0;34m(\u001b[0m\u001b[0mtext\u001b[0m\u001b[0;34m,\u001b[0m \u001b[0mlanguage\u001b[0m\u001b[0;34m)\u001b[0m\u001b[0;34m\u001b[0m\u001b[0;34m\u001b[0m\u001b[0m\n\u001b[0m\u001b[1;32m    130\u001b[0m     return [\n\u001b[1;32m    131\u001b[0m         \u001b[0mtoken\u001b[0m \u001b[0;32mfor\u001b[0m \u001b[0msent\u001b[0m \u001b[0;32min\u001b[0m \u001b[0msentences\u001b[0m \u001b[0;32mfor\u001b[0m \u001b[0mtoken\u001b[0m \u001b[0;32min\u001b[0m \u001b[0m_treebank_word_tokenizer\u001b[0m\u001b[0;34m.\u001b[0m\u001b[0mtokenize\u001b[0m\u001b[0;34m(\u001b[0m\u001b[0msent\u001b[0m\u001b[0;34m)\u001b[0m\u001b[0;34m\u001b[0m\u001b[0;34m\u001b[0m\u001b[0m\n",
      "\u001b[0;32m~/opt/anaconda3/lib/python3.7/site-packages/nltk/tokenize/__init__.py\u001b[0m in \u001b[0;36msent_tokenize\u001b[0;34m(text, language)\u001b[0m\n\u001b[1;32m    104\u001b[0m     \u001b[0;34m:\u001b[0m\u001b[0mparam\u001b[0m \u001b[0mlanguage\u001b[0m\u001b[0;34m:\u001b[0m \u001b[0mthe\u001b[0m \u001b[0mmodel\u001b[0m \u001b[0mname\u001b[0m \u001b[0;32min\u001b[0m \u001b[0mthe\u001b[0m \u001b[0mPunkt\u001b[0m \u001b[0mcorpus\u001b[0m\u001b[0;34m\u001b[0m\u001b[0;34m\u001b[0m\u001b[0m\n\u001b[1;32m    105\u001b[0m     \"\"\"\n\u001b[0;32m--> 106\u001b[0;31m     \u001b[0mtokenizer\u001b[0m \u001b[0;34m=\u001b[0m \u001b[0mload\u001b[0m\u001b[0;34m(\u001b[0m\u001b[0;34mf\"tokenizers/punkt/{language}.pickle\"\u001b[0m\u001b[0;34m)\u001b[0m\u001b[0;34m\u001b[0m\u001b[0;34m\u001b[0m\u001b[0m\n\u001b[0m\u001b[1;32m    107\u001b[0m     \u001b[0;32mreturn\u001b[0m \u001b[0mtokenizer\u001b[0m\u001b[0;34m.\u001b[0m\u001b[0mtokenize\u001b[0m\u001b[0;34m(\u001b[0m\u001b[0mtext\u001b[0m\u001b[0;34m)\u001b[0m\u001b[0;34m\u001b[0m\u001b[0;34m\u001b[0m\u001b[0m\n\u001b[1;32m    108\u001b[0m \u001b[0;34m\u001b[0m\u001b[0m\n",
      "\u001b[0;32m~/opt/anaconda3/lib/python3.7/site-packages/nltk/data.py\u001b[0m in \u001b[0;36mload\u001b[0;34m(resource_url, format, cache, verbose, logic_parser, fstruct_reader, encoding)\u001b[0m\n\u001b[1;32m    716\u001b[0m     \"\"\"\n\u001b[1;32m    717\u001b[0m     \u001b[0mresource_url\u001b[0m \u001b[0;34m=\u001b[0m \u001b[0mnormalize_resource_url\u001b[0m\u001b[0;34m(\u001b[0m\u001b[0mresource_url\u001b[0m\u001b[0;34m)\u001b[0m\u001b[0;34m\u001b[0m\u001b[0;34m\u001b[0m\u001b[0m\n\u001b[0;32m--> 718\u001b[0;31m     \u001b[0mresource_url\u001b[0m \u001b[0;34m=\u001b[0m \u001b[0madd_py3_data\u001b[0m\u001b[0;34m(\u001b[0m\u001b[0mresource_url\u001b[0m\u001b[0;34m)\u001b[0m\u001b[0;34m\u001b[0m\u001b[0;34m\u001b[0m\u001b[0m\n\u001b[0m\u001b[1;32m    719\u001b[0m \u001b[0;34m\u001b[0m\u001b[0m\n\u001b[1;32m    720\u001b[0m     \u001b[0;31m# Determine the format of the resource.\u001b[0m\u001b[0;34m\u001b[0m\u001b[0;34m\u001b[0m\u001b[0;34m\u001b[0m\u001b[0m\n",
      "\u001b[0;32m~/opt/anaconda3/lib/python3.7/site-packages/nltk/compat.py\u001b[0m in \u001b[0;36madd_py3_data\u001b[0;34m(path)\u001b[0m\n\u001b[1;32m     25\u001b[0m \u001b[0;32mdef\u001b[0m \u001b[0madd_py3_data\u001b[0m\u001b[0;34m(\u001b[0m\u001b[0mpath\u001b[0m\u001b[0;34m)\u001b[0m\u001b[0;34m:\u001b[0m\u001b[0;34m\u001b[0m\u001b[0;34m\u001b[0m\u001b[0m\n\u001b[1;32m     26\u001b[0m     \u001b[0;32mfor\u001b[0m \u001b[0mitem\u001b[0m \u001b[0;32min\u001b[0m \u001b[0m_PY3_DATA_UPDATES\u001b[0m\u001b[0;34m:\u001b[0m\u001b[0;34m\u001b[0m\u001b[0;34m\u001b[0m\u001b[0m\n\u001b[0;32m---> 27\u001b[0;31m         \u001b[0;32mif\u001b[0m \u001b[0mitem\u001b[0m \u001b[0;32min\u001b[0m \u001b[0mstr\u001b[0m\u001b[0;34m(\u001b[0m\u001b[0mpath\u001b[0m\u001b[0;34m)\u001b[0m \u001b[0;32mand\u001b[0m \u001b[0;34m\"/PY3\"\u001b[0m \u001b[0;32mnot\u001b[0m \u001b[0;32min\u001b[0m \u001b[0mstr\u001b[0m\u001b[0;34m(\u001b[0m\u001b[0mpath\u001b[0m\u001b[0;34m)\u001b[0m\u001b[0;34m:\u001b[0m\u001b[0;34m\u001b[0m\u001b[0;34m\u001b[0m\u001b[0m\n\u001b[0m\u001b[1;32m     28\u001b[0m             \u001b[0mpos\u001b[0m \u001b[0;34m=\u001b[0m \u001b[0mpath\u001b[0m\u001b[0;34m.\u001b[0m\u001b[0mindex\u001b[0m\u001b[0;34m(\u001b[0m\u001b[0mitem\u001b[0m\u001b[0;34m)\u001b[0m \u001b[0;34m+\u001b[0m \u001b[0mlen\u001b[0m\u001b[0;34m(\u001b[0m\u001b[0mitem\u001b[0m\u001b[0;34m)\u001b[0m\u001b[0;34m\u001b[0m\u001b[0;34m\u001b[0m\u001b[0m\n\u001b[1;32m     29\u001b[0m             \u001b[0;32mif\u001b[0m \u001b[0mpath\u001b[0m\u001b[0;34m[\u001b[0m\u001b[0mpos\u001b[0m \u001b[0;34m:\u001b[0m \u001b[0mpos\u001b[0m \u001b[0;34m+\u001b[0m \u001b[0;36m4\u001b[0m\u001b[0;34m]\u001b[0m \u001b[0;34m==\u001b[0m \u001b[0;34m\".zip\"\u001b[0m\u001b[0;34m:\u001b[0m\u001b[0;34m\u001b[0m\u001b[0;34m\u001b[0m\u001b[0m\n",
      "\u001b[0;31mKeyboardInterrupt\u001b[0m: "
     ]
    }
   ],
   "source": [
    "##############################\n",
    "####### SKIP THIS CELL #######\n",
    "##############################\n",
    "\n",
    "# text preprocessing ... building the functionality \n",
    "def remove_punctuation(tweet):\n",
    "    tweet=\"\".join([i for i in tweet if i not in string.punctuation])\n",
    "    return tweet\n",
    "#storing the puntuation free text\n",
    "data['clean_tweet1']= data['tweet_text'].apply(lambda x:remove_punctuation(x))\n",
    "data.head()\n",
    "\n",
    "# convert to lowercase using regex\n",
    "def lowercase(tweet):\n",
    "    regexp_pattern=\"@\\S+|https?:\\S+|http?:\\S|[^A-Za-z0-9]+\"\n",
    "    tweet = re.sub(regexp_pattern, ' ', str(tweet).lower()).strip()\n",
    "data['clean_tweet2']= data['clean_tweet1'].apply(lambda x: x.lower())\n",
    "data.head()\n",
    "\n",
    "# tokenization\n",
    "\n",
    "def tokenization(text):\n",
    "    #tokens = re.split('W+',text)\n",
    "    tokens = word_tokenize(text)\n",
    "    tweet = [i for i in tokens]   \n",
    "    return tweet\n",
    "#applying function to the column\n",
    "data['tokenized_tweet']= data['clean_tweet2'].apply(lambda x: tokenization(x))\n",
    "\n",
    "# stopword removal\n",
    "stopwords = nltk.corpus.stopwords.words('english')\n",
    "\n",
    "def remove_stopwords(tweet):\n",
    "    tweet= [i for i in tweet if i not in stopwords]\n",
    "    return tweet\n",
    "\n",
    "data['no_stopwords']= data['tokenized_tweet'].apply(lambda x:remove_stopwords(x))\n",
    "\n",
    "\n",
    "# stemming\n",
    "stemmer = PorterStemmer()\n",
    "\n",
    "def stemming(tweet):\n",
    "    tweet = [stemmer.stem(word) for word in tweet]\n",
    "    return tweet\n",
    "\n",
    "data['tweet_stemmed']=data['no_stopwords'].apply(lambda x: stemming(x))\n",
    "\n",
    "# Lemmatization to ensure word meaning not lost during stemming\n",
    "wnl = WordNetLemmatizer()\n",
    "\n",
    "def lemmatizer(tweet):\n",
    "    tweet = [wnl.lemmatize(word) for word in tweet]\n",
    "    return tweet\n",
    "data['tweet_lemmatized']=data['no_stopwords'].apply(lambda x:lemmatizer(x))"
   ]
  },
  {
   "cell_type": "code",
   "execution_count": 3,
   "id": "1b79841a",
   "metadata": {},
   "outputs": [],
   "source": [
    "#############################\n",
    "####### RUN THIS CELL #######\n",
    "#############################\n",
    "\n",
    "# create a function to do all preprocessing in one step\n",
    "\n",
    "def preprocessing(tweet):\n",
    "    # punctuation\n",
    "    tweet=\"\".join([i for i in tweet if i not in string.punctuation])\n",
    "    # lowercase\n",
    "    regexp_pattern=\"@\\S+|https?:\\S+|http?:\\S|[^A-Za-z0-9]+\"\n",
    "    tweet = re.sub(regexp_pattern, ' ', str(tweet).lower()).strip()\n",
    "    # tokenize\n",
    "    tokens = word_tokenize(tweet)\n",
    "    tweet = [i for i in tokens]   \n",
    "    # remove stopwords\n",
    "    stopwords = nltk.corpus.stopwords.words('english')\n",
    "    tweet = [i for i in tweet if i not in stopwords]\n",
    "    # stemming\n",
    "    stemmer = PorterStemmer()\n",
    "    tweet = [stemmer.stem(word) for word in tweet]\n",
    "    # lemmatizer\n",
    "    wnl = WordNetLemmatizer()\n",
    "    tweet = [wnl.lemmatize(word) for word in tweet]\n",
    "    \n",
    "    return tweet\n",
    "\n",
    "data['preprocessed_tweet'] = data['tweet_text'].apply(lambda x:preprocessing(x))"
   ]
  },
  {
   "cell_type": "code",
   "execution_count": 125,
   "id": "43a695c2",
   "metadata": {},
   "outputs": [
    {
     "data": {
      "text/html": [
       "<div>\n",
       "<style scoped>\n",
       "    .dataframe tbody tr th:only-of-type {\n",
       "        vertical-align: middle;\n",
       "    }\n",
       "\n",
       "    .dataframe tbody tr th {\n",
       "        vertical-align: top;\n",
       "    }\n",
       "\n",
       "    .dataframe thead th {\n",
       "        text-align: right;\n",
       "    }\n",
       "</style>\n",
       "<table border=\"1\" class=\"dataframe\">\n",
       "  <thead>\n",
       "    <tr style=\"text-align: right;\">\n",
       "      <th></th>\n",
       "      <th>tweet_text</th>\n",
       "      <th>cyberbullying_type</th>\n",
       "      <th>preprocessed_tweet</th>\n",
       "    </tr>\n",
       "  </thead>\n",
       "  <tbody>\n",
       "    <tr>\n",
       "      <th>0</th>\n",
       "      <td>In other words #katandandre, your food was cra...</td>\n",
       "      <td>not_cyberbullying</td>\n",
       "      <td>[word, katandandr, food, crapilici, mkr]</td>\n",
       "    </tr>\n",
       "    <tr>\n",
       "      <th>1</th>\n",
       "      <td>Why is #aussietv so white? #MKR #theblock #ImA...</td>\n",
       "      <td>not_cyberbullying</td>\n",
       "      <td>[aussietv, white, mkr, theblock, imacelebritya...</td>\n",
       "    </tr>\n",
       "    <tr>\n",
       "      <th>2</th>\n",
       "      <td>@XochitlSuckkks a classy whore? Or more red ve...</td>\n",
       "      <td>not_cyberbullying</td>\n",
       "      <td>[xochitlsuckkk, classi, whore, red, velvet, cu...</td>\n",
       "    </tr>\n",
       "    <tr>\n",
       "      <th>3</th>\n",
       "      <td>@Jason_Gio meh. :P  thanks for the heads up, b...</td>\n",
       "      <td>not_cyberbullying</td>\n",
       "      <td>[jasongio, meh, p, thank, head, concern, anoth...</td>\n",
       "    </tr>\n",
       "    <tr>\n",
       "      <th>4</th>\n",
       "      <td>@RudhoeEnglish This is an ISIS account pretend...</td>\n",
       "      <td>not_cyberbullying</td>\n",
       "      <td>[rudhoeenglish, isi, account, pretend, kurdish...</td>\n",
       "    </tr>\n",
       "    <tr>\n",
       "      <th>5</th>\n",
       "      <td>@Raja5aab @Quickieleaks Yes, the test of god i...</td>\n",
       "      <td>not_cyberbullying</td>\n",
       "      <td>[raja5aab, quickieleak, ye, test, god, good, b...</td>\n",
       "    </tr>\n",
       "    <tr>\n",
       "      <th>6</th>\n",
       "      <td>Itu sekolah ya bukan tempat bully! Ga jauh kay...</td>\n",
       "      <td>not_cyberbullying</td>\n",
       "      <td>[itu, sekolah, ya, bukan, tempat, bulli, ga, j...</td>\n",
       "    </tr>\n",
       "    <tr>\n",
       "      <th>7</th>\n",
       "      <td>Karma. I hope it bites Kat on the butt. She is...</td>\n",
       "      <td>not_cyberbullying</td>\n",
       "      <td>[karma, hope, bite, kat, butt, nasti, mkr]</td>\n",
       "    </tr>\n",
       "    <tr>\n",
       "      <th>8</th>\n",
       "      <td>@stockputout everything but mostly my priest</td>\n",
       "      <td>not_cyberbullying</td>\n",
       "      <td>[stockputout, everyth, mostli, priest]</td>\n",
       "    </tr>\n",
       "    <tr>\n",
       "      <th>9</th>\n",
       "      <td>Rebecca Black Drops Out of School Due to Bully...</td>\n",
       "      <td>not_cyberbullying</td>\n",
       "      <td>[rebecca, black, drop, school, due, bulli]</td>\n",
       "    </tr>\n",
       "    <tr>\n",
       "      <th>10</th>\n",
       "      <td>@Jord_Is_Dead http://t.co/UsQInYW5Gn</td>\n",
       "      <td>not_cyberbullying</td>\n",
       "      <td>[jordisdead, httptcousqinyw5gn]</td>\n",
       "    </tr>\n",
       "    <tr>\n",
       "      <th>11</th>\n",
       "      <td>The Bully flushes on KD http://twitvid.com/A2TNP</td>\n",
       "      <td>not_cyberbullying</td>\n",
       "      <td>[bulli, flush, kd, httptwitvidcoma2tnp]</td>\n",
       "    </tr>\n",
       "    <tr>\n",
       "      <th>12</th>\n",
       "      <td>Ughhhh #MKR</td>\n",
       "      <td>not_cyberbullying</td>\n",
       "      <td>[ughhhh, mkr]</td>\n",
       "    </tr>\n",
       "    <tr>\n",
       "      <th>13</th>\n",
       "      <td>RT @Kurdsnews: Turkish state has killed 241 ch...</td>\n",
       "      <td>not_cyberbullying</td>\n",
       "      <td>[rt, kurdsnew, turkish, state, kill, 241, chil...</td>\n",
       "    </tr>\n",
       "    <tr>\n",
       "      <th>14</th>\n",
       "      <td>Love that the best response to the hotcakes th...</td>\n",
       "      <td>not_cyberbullying</td>\n",
       "      <td>[love, best, respons, hotcak, manag, film, non...</td>\n",
       "    </tr>\n",
       "    <tr>\n",
       "      <th>15</th>\n",
       "      <td>@yasmimcaci @Bferrarii PAREM DE FAZER BULLYING...</td>\n",
       "      <td>not_cyberbullying</td>\n",
       "      <td>[yasmimcaci, bferrarii, parem, de, fazer, bull...</td>\n",
       "    </tr>\n",
       "    <tr>\n",
       "      <th>16</th>\n",
       "      <td>@sarinhacoral @Victor_Maggi tadinhu de mim , s...</td>\n",
       "      <td>not_cyberbullying</td>\n",
       "      <td>[sarinhacor, victormaggi, tadinhu, de, mim, so...</td>\n",
       "    </tr>\n",
       "    <tr>\n",
       "      <th>17</th>\n",
       "      <td>@0xabad1dea @kelseytheodore2 twitter is basica...</td>\n",
       "      <td>not_cyberbullying</td>\n",
       "      <td>[0xabad1dea, kelseytheodore2, twitter, basic, ...</td>\n",
       "    </tr>\n",
       "    <tr>\n",
       "      <th>18</th>\n",
       "      <td>Best pick up line? Hi, you're cute... ?: I lov...</td>\n",
       "      <td>not_cyberbullying</td>\n",
       "      <td>[best, pick, line, hi, your, cute, love, peopl...</td>\n",
       "    </tr>\n",
       "    <tr>\n",
       "      <th>19</th>\n",
       "      <td>Now I gotta walk to classss?! I officially hat...</td>\n",
       "      <td>not_cyberbullying</td>\n",
       "      <td>[got, ta, walk, class, offici, hate, stupid, b...</td>\n",
       "    </tr>\n",
       "  </tbody>\n",
       "</table>\n",
       "</div>"
      ],
      "text/plain": [
       "                                           tweet_text cyberbullying_type  \\\n",
       "0   In other words #katandandre, your food was cra...  not_cyberbullying   \n",
       "1   Why is #aussietv so white? #MKR #theblock #ImA...  not_cyberbullying   \n",
       "2   @XochitlSuckkks a classy whore? Or more red ve...  not_cyberbullying   \n",
       "3   @Jason_Gio meh. :P  thanks for the heads up, b...  not_cyberbullying   \n",
       "4   @RudhoeEnglish This is an ISIS account pretend...  not_cyberbullying   \n",
       "5   @Raja5aab @Quickieleaks Yes, the test of god i...  not_cyberbullying   \n",
       "6   Itu sekolah ya bukan tempat bully! Ga jauh kay...  not_cyberbullying   \n",
       "7   Karma. I hope it bites Kat on the butt. She is...  not_cyberbullying   \n",
       "8        @stockputout everything but mostly my priest  not_cyberbullying   \n",
       "9   Rebecca Black Drops Out of School Due to Bully...  not_cyberbullying   \n",
       "10               @Jord_Is_Dead http://t.co/UsQInYW5Gn  not_cyberbullying   \n",
       "11   The Bully flushes on KD http://twitvid.com/A2TNP  not_cyberbullying   \n",
       "12                                        Ughhhh #MKR  not_cyberbullying   \n",
       "13  RT @Kurdsnews: Turkish state has killed 241 ch...  not_cyberbullying   \n",
       "14  Love that the best response to the hotcakes th...  not_cyberbullying   \n",
       "15  @yasmimcaci @Bferrarii PAREM DE FAZER BULLYING...  not_cyberbullying   \n",
       "16  @sarinhacoral @Victor_Maggi tadinhu de mim , s...  not_cyberbullying   \n",
       "17  @0xabad1dea @kelseytheodore2 twitter is basica...  not_cyberbullying   \n",
       "18  Best pick up line? Hi, you're cute... ?: I lov...  not_cyberbullying   \n",
       "19  Now I gotta walk to classss?! I officially hat...  not_cyberbullying   \n",
       "\n",
       "                                   preprocessed_tweet  \n",
       "0            [word, katandandr, food, crapilici, mkr]  \n",
       "1   [aussietv, white, mkr, theblock, imacelebritya...  \n",
       "2   [xochitlsuckkk, classi, whore, red, velvet, cu...  \n",
       "3   [jasongio, meh, p, thank, head, concern, anoth...  \n",
       "4   [rudhoeenglish, isi, account, pretend, kurdish...  \n",
       "5   [raja5aab, quickieleak, ye, test, god, good, b...  \n",
       "6   [itu, sekolah, ya, bukan, tempat, bulli, ga, j...  \n",
       "7          [karma, hope, bite, kat, butt, nasti, mkr]  \n",
       "8              [stockputout, everyth, mostli, priest]  \n",
       "9          [rebecca, black, drop, school, due, bulli]  \n",
       "10                    [jordisdead, httptcousqinyw5gn]  \n",
       "11            [bulli, flush, kd, httptwitvidcoma2tnp]  \n",
       "12                                      [ughhhh, mkr]  \n",
       "13  [rt, kurdsnew, turkish, state, kill, 241, chil...  \n",
       "14  [love, best, respons, hotcak, manag, film, non...  \n",
       "15  [yasmimcaci, bferrarii, parem, de, fazer, bull...  \n",
       "16  [sarinhacor, victormaggi, tadinhu, de, mim, so...  \n",
       "17  [0xabad1dea, kelseytheodore2, twitter, basic, ...  \n",
       "18  [best, pick, line, hi, your, cute, love, peopl...  \n",
       "19  [got, ta, walk, class, offici, hate, stupid, b...  "
      ]
     },
     "execution_count": 125,
     "metadata": {},
     "output_type": "execute_result"
    }
   ],
   "source": [
    "data.head(20)"
   ]
  },
  {
   "cell_type": "markdown",
   "id": "a9e933dc",
   "metadata": {},
   "source": [
    "# one hot encore for binary class"
   ]
  },
  {
   "cell_type": "code",
   "execution_count": 30,
   "id": "2982e56e",
   "metadata": {},
   "outputs": [
    {
     "data": {
      "text/plain": [
       "[array(['age', 'ethnicity', 'gender', 'not_cyberbullying',\n",
       "        'other_cyberbullying', 'religion'], dtype=object),\n",
       " array([0, 1], dtype=object)]"
      ]
     },
     "execution_count": 30,
     "metadata": {},
     "output_type": "execute_result"
    }
   ],
   "source": [
    "# X = [['gender', 1], ['religion', 1], ['age', 1], ['ethnicity', 1], ['other_cyberbullying',1], ['not_cyberbullying', 0]]\n",
    "# print(\"X: \",X)\n",
    "# binary encode\n",
    "# enc = OneHotEncoder(handle_unknown='ignore')\n",
    "# enc.fit(X)\n",
    "# enc.categories_"
   ]
  },
  {
   "cell_type": "code",
   "execution_count": 7,
   "id": "3d2dad49",
   "metadata": {},
   "outputs": [
    {
     "name": "stdout",
     "output_type": "stream",
     "text": [
      "After replacing the values:\n"
     ]
    },
    {
     "data": {
      "text/html": [
       "<div>\n",
       "<style scoped>\n",
       "    .dataframe tbody tr th:only-of-type {\n",
       "        vertical-align: middle;\n",
       "    }\n",
       "\n",
       "    .dataframe tbody tr th {\n",
       "        vertical-align: top;\n",
       "    }\n",
       "\n",
       "    .dataframe thead th {\n",
       "        text-align: right;\n",
       "    }\n",
       "</style>\n",
       "<table border=\"1\" class=\"dataframe\">\n",
       "  <thead>\n",
       "    <tr style=\"text-align: right;\">\n",
       "      <th></th>\n",
       "      <th>tweet_text</th>\n",
       "      <th>cyberbullying_type</th>\n",
       "      <th>preprocessed_tweet</th>\n",
       "      <th>cyberbullying_binary_class</th>\n",
       "    </tr>\n",
       "  </thead>\n",
       "  <tbody>\n",
       "    <tr>\n",
       "      <th>0</th>\n",
       "      <td>In other words #katandandre, your food was cra...</td>\n",
       "      <td>not_cyberbullying</td>\n",
       "      <td>[word, katandandr, food, crapilici, mkr]</td>\n",
       "      <td>not_cyberbullying</td>\n",
       "    </tr>\n",
       "    <tr>\n",
       "      <th>1</th>\n",
       "      <td>Why is #aussietv so white? #MKR #theblock #ImA...</td>\n",
       "      <td>not_cyberbullying</td>\n",
       "      <td>[aussietv, white, mkr, theblock, imacelebritya...</td>\n",
       "      <td>not_cyberbullying</td>\n",
       "    </tr>\n",
       "    <tr>\n",
       "      <th>2</th>\n",
       "      <td>@XochitlSuckkks a classy whore? Or more red ve...</td>\n",
       "      <td>not_cyberbullying</td>\n",
       "      <td>[xochitlsuckkk, classi, whore, red, velvet, cu...</td>\n",
       "      <td>not_cyberbullying</td>\n",
       "    </tr>\n",
       "    <tr>\n",
       "      <th>3</th>\n",
       "      <td>@Jason_Gio meh. :P  thanks for the heads up, b...</td>\n",
       "      <td>not_cyberbullying</td>\n",
       "      <td>[jasongio, meh, p, thank, head, concern, anoth...</td>\n",
       "      <td>not_cyberbullying</td>\n",
       "    </tr>\n",
       "    <tr>\n",
       "      <th>4</th>\n",
       "      <td>@RudhoeEnglish This is an ISIS account pretend...</td>\n",
       "      <td>not_cyberbullying</td>\n",
       "      <td>[rudhoeenglish, isi, account, pretend, kurdish...</td>\n",
       "      <td>not_cyberbullying</td>\n",
       "    </tr>\n",
       "    <tr>\n",
       "      <th>...</th>\n",
       "      <td>...</td>\n",
       "      <td>...</td>\n",
       "      <td>...</td>\n",
       "      <td>...</td>\n",
       "    </tr>\n",
       "    <tr>\n",
       "      <th>47687</th>\n",
       "      <td>Black ppl aren't expected to do anything, depe...</td>\n",
       "      <td>ethnicity</td>\n",
       "      <td>[black, ppl, arent, expect, anyth, depend, any...</td>\n",
       "      <td>1</td>\n",
       "    </tr>\n",
       "    <tr>\n",
       "      <th>47688</th>\n",
       "      <td>Turner did not withhold his disappointment. Tu...</td>\n",
       "      <td>ethnicity</td>\n",
       "      <td>[turner, withhold, disappoint, turner, call, c...</td>\n",
       "      <td>1</td>\n",
       "    </tr>\n",
       "    <tr>\n",
       "      <th>47689</th>\n",
       "      <td>I swear to God. This dumb nigger bitch. I have...</td>\n",
       "      <td>ethnicity</td>\n",
       "      <td>[swear, god, dumb, nigger, bitch, got, bleach,...</td>\n",
       "      <td>1</td>\n",
       "    </tr>\n",
       "    <tr>\n",
       "      <th>47690</th>\n",
       "      <td>Yea fuck you RT @therealexel: IF YOURE A NIGGE...</td>\n",
       "      <td>ethnicity</td>\n",
       "      <td>[yea, fuck, rt, therealexel, your, nigger, fuc...</td>\n",
       "      <td>1</td>\n",
       "    </tr>\n",
       "    <tr>\n",
       "      <th>47691</th>\n",
       "      <td>Bro. U gotta chill RT @CHILLShrammy: Dog FUCK ...</td>\n",
       "      <td>ethnicity</td>\n",
       "      <td>[bro, u, got, ta, chill, rt, chillshrammi, dog...</td>\n",
       "      <td>1</td>\n",
       "    </tr>\n",
       "  </tbody>\n",
       "</table>\n",
       "<p>47692 rows × 4 columns</p>\n",
       "</div>"
      ],
      "text/plain": [
       "                                              tweet_text cyberbullying_type  \\\n",
       "0      In other words #katandandre, your food was cra...  not_cyberbullying   \n",
       "1      Why is #aussietv so white? #MKR #theblock #ImA...  not_cyberbullying   \n",
       "2      @XochitlSuckkks a classy whore? Or more red ve...  not_cyberbullying   \n",
       "3      @Jason_Gio meh. :P  thanks for the heads up, b...  not_cyberbullying   \n",
       "4      @RudhoeEnglish This is an ISIS account pretend...  not_cyberbullying   \n",
       "...                                                  ...                ...   \n",
       "47687  Black ppl aren't expected to do anything, depe...          ethnicity   \n",
       "47688  Turner did not withhold his disappointment. Tu...          ethnicity   \n",
       "47689  I swear to God. This dumb nigger bitch. I have...          ethnicity   \n",
       "47690  Yea fuck you RT @therealexel: IF YOURE A NIGGE...          ethnicity   \n",
       "47691  Bro. U gotta chill RT @CHILLShrammy: Dog FUCK ...          ethnicity   \n",
       "\n",
       "                                      preprocessed_tweet  \\\n",
       "0               [word, katandandr, food, crapilici, mkr]   \n",
       "1      [aussietv, white, mkr, theblock, imacelebritya...   \n",
       "2      [xochitlsuckkk, classi, whore, red, velvet, cu...   \n",
       "3      [jasongio, meh, p, thank, head, concern, anoth...   \n",
       "4      [rudhoeenglish, isi, account, pretend, kurdish...   \n",
       "...                                                  ...   \n",
       "47687  [black, ppl, arent, expect, anyth, depend, any...   \n",
       "47688  [turner, withhold, disappoint, turner, call, c...   \n",
       "47689  [swear, god, dumb, nigger, bitch, got, bleach,...   \n",
       "47690  [yea, fuck, rt, therealexel, your, nigger, fuc...   \n",
       "47691  [bro, u, got, ta, chill, rt, chillshrammi, dog...   \n",
       "\n",
       "      cyberbullying_binary_class  \n",
       "0              not_cyberbullying  \n",
       "1              not_cyberbullying  \n",
       "2              not_cyberbullying  \n",
       "3              not_cyberbullying  \n",
       "4              not_cyberbullying  \n",
       "...                          ...  \n",
       "47687                          1  \n",
       "47688                          1  \n",
       "47689                          1  \n",
       "47690                          1  \n",
       "47691                          1  \n",
       "\n",
       "[47692 rows x 4 columns]"
      ]
     },
     "execution_count": 7,
     "metadata": {},
     "output_type": "execute_result"
    }
   ],
   "source": [
    "# data['cyberbullying_binary_class'] = data['cyberbullying_type'].replace(['not_cyberbullying'],'0' ['ethnicity','other_cyberbullying','gender','age','gender','religion'],'1')\n",
    "# data['cyberbullying_binary_class'] = np.where((data['cyberbullying_binary_class'] == 'not_cyberbullying'), 0, data['cyberbullying_binary_class'])\n",
    "data['cyberbullying_binary_class'] = data['cyberbullying_type'].replace(dict.fromkeys(['ethnicity','other_cyberbullying','gender','age','gender','religion'], '1'))\n",
    "print(\"After replacing the values:\")\n",
    "data"
   ]
  },
  {
   "cell_type": "code",
   "execution_count": 8,
   "id": "16981c9e",
   "metadata": {},
   "outputs": [
    {
     "name": "stdout",
     "output_type": "stream",
     "text": [
      "After replacing the values:\n"
     ]
    },
    {
     "data": {
      "text/html": [
       "<div>\n",
       "<style scoped>\n",
       "    .dataframe tbody tr th:only-of-type {\n",
       "        vertical-align: middle;\n",
       "    }\n",
       "\n",
       "    .dataframe tbody tr th {\n",
       "        vertical-align: top;\n",
       "    }\n",
       "\n",
       "    .dataframe thead th {\n",
       "        text-align: right;\n",
       "    }\n",
       "</style>\n",
       "<table border=\"1\" class=\"dataframe\">\n",
       "  <thead>\n",
       "    <tr style=\"text-align: right;\">\n",
       "      <th></th>\n",
       "      <th>tweet_text</th>\n",
       "      <th>cyberbullying_type</th>\n",
       "      <th>preprocessed_tweet</th>\n",
       "      <th>cyberbullying_binary_class</th>\n",
       "    </tr>\n",
       "  </thead>\n",
       "  <tbody>\n",
       "    <tr>\n",
       "      <th>0</th>\n",
       "      <td>In other words #katandandre, your food was cra...</td>\n",
       "      <td>not_cyberbullying</td>\n",
       "      <td>[word, katandandr, food, crapilici, mkr]</td>\n",
       "      <td>0</td>\n",
       "    </tr>\n",
       "    <tr>\n",
       "      <th>1</th>\n",
       "      <td>Why is #aussietv so white? #MKR #theblock #ImA...</td>\n",
       "      <td>not_cyberbullying</td>\n",
       "      <td>[aussietv, white, mkr, theblock, imacelebritya...</td>\n",
       "      <td>0</td>\n",
       "    </tr>\n",
       "    <tr>\n",
       "      <th>2</th>\n",
       "      <td>@XochitlSuckkks a classy whore? Or more red ve...</td>\n",
       "      <td>not_cyberbullying</td>\n",
       "      <td>[xochitlsuckkk, classi, whore, red, velvet, cu...</td>\n",
       "      <td>0</td>\n",
       "    </tr>\n",
       "    <tr>\n",
       "      <th>3</th>\n",
       "      <td>@Jason_Gio meh. :P  thanks for the heads up, b...</td>\n",
       "      <td>not_cyberbullying</td>\n",
       "      <td>[jasongio, meh, p, thank, head, concern, anoth...</td>\n",
       "      <td>0</td>\n",
       "    </tr>\n",
       "    <tr>\n",
       "      <th>4</th>\n",
       "      <td>@RudhoeEnglish This is an ISIS account pretend...</td>\n",
       "      <td>not_cyberbullying</td>\n",
       "      <td>[rudhoeenglish, isi, account, pretend, kurdish...</td>\n",
       "      <td>0</td>\n",
       "    </tr>\n",
       "    <tr>\n",
       "      <th>...</th>\n",
       "      <td>...</td>\n",
       "      <td>...</td>\n",
       "      <td>...</td>\n",
       "      <td>...</td>\n",
       "    </tr>\n",
       "    <tr>\n",
       "      <th>47687</th>\n",
       "      <td>Black ppl aren't expected to do anything, depe...</td>\n",
       "      <td>ethnicity</td>\n",
       "      <td>[black, ppl, arent, expect, anyth, depend, any...</td>\n",
       "      <td>1</td>\n",
       "    </tr>\n",
       "    <tr>\n",
       "      <th>47688</th>\n",
       "      <td>Turner did not withhold his disappointment. Tu...</td>\n",
       "      <td>ethnicity</td>\n",
       "      <td>[turner, withhold, disappoint, turner, call, c...</td>\n",
       "      <td>1</td>\n",
       "    </tr>\n",
       "    <tr>\n",
       "      <th>47689</th>\n",
       "      <td>I swear to God. This dumb nigger bitch. I have...</td>\n",
       "      <td>ethnicity</td>\n",
       "      <td>[swear, god, dumb, nigger, bitch, got, bleach,...</td>\n",
       "      <td>1</td>\n",
       "    </tr>\n",
       "    <tr>\n",
       "      <th>47690</th>\n",
       "      <td>Yea fuck you RT @therealexel: IF YOURE A NIGGE...</td>\n",
       "      <td>ethnicity</td>\n",
       "      <td>[yea, fuck, rt, therealexel, your, nigger, fuc...</td>\n",
       "      <td>1</td>\n",
       "    </tr>\n",
       "    <tr>\n",
       "      <th>47691</th>\n",
       "      <td>Bro. U gotta chill RT @CHILLShrammy: Dog FUCK ...</td>\n",
       "      <td>ethnicity</td>\n",
       "      <td>[bro, u, got, ta, chill, rt, chillshrammi, dog...</td>\n",
       "      <td>1</td>\n",
       "    </tr>\n",
       "  </tbody>\n",
       "</table>\n",
       "<p>47692 rows × 4 columns</p>\n",
       "</div>"
      ],
      "text/plain": [
       "                                              tweet_text cyberbullying_type  \\\n",
       "0      In other words #katandandre, your food was cra...  not_cyberbullying   \n",
       "1      Why is #aussietv so white? #MKR #theblock #ImA...  not_cyberbullying   \n",
       "2      @XochitlSuckkks a classy whore? Or more red ve...  not_cyberbullying   \n",
       "3      @Jason_Gio meh. :P  thanks for the heads up, b...  not_cyberbullying   \n",
       "4      @RudhoeEnglish This is an ISIS account pretend...  not_cyberbullying   \n",
       "...                                                  ...                ...   \n",
       "47687  Black ppl aren't expected to do anything, depe...          ethnicity   \n",
       "47688  Turner did not withhold his disappointment. Tu...          ethnicity   \n",
       "47689  I swear to God. This dumb nigger bitch. I have...          ethnicity   \n",
       "47690  Yea fuck you RT @therealexel: IF YOURE A NIGGE...          ethnicity   \n",
       "47691  Bro. U gotta chill RT @CHILLShrammy: Dog FUCK ...          ethnicity   \n",
       "\n",
       "                                      preprocessed_tweet  \\\n",
       "0               [word, katandandr, food, crapilici, mkr]   \n",
       "1      [aussietv, white, mkr, theblock, imacelebritya...   \n",
       "2      [xochitlsuckkk, classi, whore, red, velvet, cu...   \n",
       "3      [jasongio, meh, p, thank, head, concern, anoth...   \n",
       "4      [rudhoeenglish, isi, account, pretend, kurdish...   \n",
       "...                                                  ...   \n",
       "47687  [black, ppl, arent, expect, anyth, depend, any...   \n",
       "47688  [turner, withhold, disappoint, turner, call, c...   \n",
       "47689  [swear, god, dumb, nigger, bitch, got, bleach,...   \n",
       "47690  [yea, fuck, rt, therealexel, your, nigger, fuc...   \n",
       "47691  [bro, u, got, ta, chill, rt, chillshrammi, dog...   \n",
       "\n",
       "      cyberbullying_binary_class  \n",
       "0                              0  \n",
       "1                              0  \n",
       "2                              0  \n",
       "3                              0  \n",
       "4                              0  \n",
       "...                          ...  \n",
       "47687                          1  \n",
       "47688                          1  \n",
       "47689                          1  \n",
       "47690                          1  \n",
       "47691                          1  \n",
       "\n",
       "[47692 rows x 4 columns]"
      ]
     },
     "execution_count": 8,
     "metadata": {},
     "output_type": "execute_result"
    }
   ],
   "source": [
    "data['cyberbullying_binary_class'] = data['cyberbullying_binary_class'].replace(dict.fromkeys(['not_cyberbullying'], '0'))\n",
    "print(\"After replacing the values:\")\n",
    "data"
   ]
  },
  {
   "cell_type": "code",
   "execution_count": 175,
   "id": "1b6494a2",
   "metadata": {},
   "outputs": [
    {
     "name": "stdout",
     "output_type": "stream",
     "text": [
      "X:  [['cyberbullying', 1], ['not_cyberbullying', 0]]\n"
     ]
    },
    {
     "data": {
      "text/html": [
       "<div>\n",
       "<style scoped>\n",
       "    .dataframe tbody tr th:only-of-type {\n",
       "        vertical-align: middle;\n",
       "    }\n",
       "\n",
       "    .dataframe tbody tr th {\n",
       "        vertical-align: top;\n",
       "    }\n",
       "\n",
       "    .dataframe thead th {\n",
       "        text-align: right;\n",
       "    }\n",
       "</style>\n",
       "<table border=\"1\" class=\"dataframe\">\n",
       "  <thead>\n",
       "    <tr style=\"text-align: right;\">\n",
       "      <th></th>\n",
       "      <th>tweet_text</th>\n",
       "      <th>cyberbullying_type</th>\n",
       "      <th>preprocessed_tweet</th>\n",
       "      <th>cyberbullying_binary_class</th>\n",
       "    </tr>\n",
       "  </thead>\n",
       "  <tbody>\n",
       "    <tr>\n",
       "      <th>0</th>\n",
       "      <td>In other words #katandandre, your food was cra...</td>\n",
       "      <td>not_cyberbullying</td>\n",
       "      <td>[word, katandandr, food, crapilici, mkr]</td>\n",
       "      <td>not_cyberbullying</td>\n",
       "    </tr>\n",
       "    <tr>\n",
       "      <th>1</th>\n",
       "      <td>Why is #aussietv so white? #MKR #theblock #ImA...</td>\n",
       "      <td>not_cyberbullying</td>\n",
       "      <td>[aussietv, white, mkr, theblock, imacelebritya...</td>\n",
       "      <td>not_cyberbullying</td>\n",
       "    </tr>\n",
       "    <tr>\n",
       "      <th>2</th>\n",
       "      <td>@XochitlSuckkks a classy whore? Or more red ve...</td>\n",
       "      <td>not_cyberbullying</td>\n",
       "      <td>[xochitlsuckkk, classi, whore, red, velvet, cu...</td>\n",
       "      <td>not_cyberbullying</td>\n",
       "    </tr>\n",
       "    <tr>\n",
       "      <th>3</th>\n",
       "      <td>@Jason_Gio meh. :P  thanks for the heads up, b...</td>\n",
       "      <td>not_cyberbullying</td>\n",
       "      <td>[jasongio, meh, p, thank, head, concern, anoth...</td>\n",
       "      <td>not_cyberbullying</td>\n",
       "    </tr>\n",
       "    <tr>\n",
       "      <th>4</th>\n",
       "      <td>@RudhoeEnglish This is an ISIS account pretend...</td>\n",
       "      <td>not_cyberbullying</td>\n",
       "      <td>[rudhoeenglish, isi, account, pretend, kurdish...</td>\n",
       "      <td>not_cyberbullying</td>\n",
       "    </tr>\n",
       "    <tr>\n",
       "      <th>...</th>\n",
       "      <td>...</td>\n",
       "      <td>...</td>\n",
       "      <td>...</td>\n",
       "      <td>...</td>\n",
       "    </tr>\n",
       "    <tr>\n",
       "      <th>47687</th>\n",
       "      <td>Black ppl aren't expected to do anything, depe...</td>\n",
       "      <td>ethnicity</td>\n",
       "      <td>[black, ppl, arent, expect, anyth, depend, any...</td>\n",
       "      <td>cyberbullying</td>\n",
       "    </tr>\n",
       "    <tr>\n",
       "      <th>47688</th>\n",
       "      <td>Turner did not withhold his disappointment. Tu...</td>\n",
       "      <td>ethnicity</td>\n",
       "      <td>[turner, withhold, disappoint, turner, call, c...</td>\n",
       "      <td>cyberbullying</td>\n",
       "    </tr>\n",
       "    <tr>\n",
       "      <th>47689</th>\n",
       "      <td>I swear to God. This dumb nigger bitch. I have...</td>\n",
       "      <td>ethnicity</td>\n",
       "      <td>[swear, god, dumb, nigger, bitch, got, bleach,...</td>\n",
       "      <td>cyberbullying</td>\n",
       "    </tr>\n",
       "    <tr>\n",
       "      <th>47690</th>\n",
       "      <td>Yea fuck you RT @therealexel: IF YOURE A NIGGE...</td>\n",
       "      <td>ethnicity</td>\n",
       "      <td>[yea, fuck, rt, therealexel, your, nigger, fuc...</td>\n",
       "      <td>cyberbullying</td>\n",
       "    </tr>\n",
       "    <tr>\n",
       "      <th>47691</th>\n",
       "      <td>Bro. U gotta chill RT @CHILLShrammy: Dog FUCK ...</td>\n",
       "      <td>ethnicity</td>\n",
       "      <td>[bro, u, got, ta, chill, rt, chillshrammi, dog...</td>\n",
       "      <td>cyberbullying</td>\n",
       "    </tr>\n",
       "  </tbody>\n",
       "</table>\n",
       "<p>47692 rows × 4 columns</p>\n",
       "</div>"
      ],
      "text/plain": [
       "                                              tweet_text cyberbullying_type  \\\n",
       "0      In other words #katandandre, your food was cra...  not_cyberbullying   \n",
       "1      Why is #aussietv so white? #MKR #theblock #ImA...  not_cyberbullying   \n",
       "2      @XochitlSuckkks a classy whore? Or more red ve...  not_cyberbullying   \n",
       "3      @Jason_Gio meh. :P  thanks for the heads up, b...  not_cyberbullying   \n",
       "4      @RudhoeEnglish This is an ISIS account pretend...  not_cyberbullying   \n",
       "...                                                  ...                ...   \n",
       "47687  Black ppl aren't expected to do anything, depe...          ethnicity   \n",
       "47688  Turner did not withhold his disappointment. Tu...          ethnicity   \n",
       "47689  I swear to God. This dumb nigger bitch. I have...          ethnicity   \n",
       "47690  Yea fuck you RT @therealexel: IF YOURE A NIGGE...          ethnicity   \n",
       "47691  Bro. U gotta chill RT @CHILLShrammy: Dog FUCK ...          ethnicity   \n",
       "\n",
       "                                      preprocessed_tweet  \\\n",
       "0               [word, katandandr, food, crapilici, mkr]   \n",
       "1      [aussietv, white, mkr, theblock, imacelebritya...   \n",
       "2      [xochitlsuckkk, classi, whore, red, velvet, cu...   \n",
       "3      [jasongio, meh, p, thank, head, concern, anoth...   \n",
       "4      [rudhoeenglish, isi, account, pretend, kurdish...   \n",
       "...                                                  ...   \n",
       "47687  [black, ppl, arent, expect, anyth, depend, any...   \n",
       "47688  [turner, withhold, disappoint, turner, call, c...   \n",
       "47689  [swear, god, dumb, nigger, bitch, got, bleach,...   \n",
       "47690  [yea, fuck, rt, therealexel, your, nigger, fuc...   \n",
       "47691  [bro, u, got, ta, chill, rt, chillshrammi, dog...   \n",
       "\n",
       "      cyberbullying_binary_class  \n",
       "0              not_cyberbullying  \n",
       "1              not_cyberbullying  \n",
       "2              not_cyberbullying  \n",
       "3              not_cyberbullying  \n",
       "4              not_cyberbullying  \n",
       "...                          ...  \n",
       "47687              cyberbullying  \n",
       "47688              cyberbullying  \n",
       "47689              cyberbullying  \n",
       "47690              cyberbullying  \n",
       "47691              cyberbullying  \n",
       "\n",
       "[47692 rows x 4 columns]"
      ]
     },
     "execution_count": 175,
     "metadata": {},
     "output_type": "execute_result"
    }
   ],
   "source": [
    "# # importing one hot encoder \n",
    "# from sklearn.preprocessing import OneHotEncoder\n",
    "\n",
    "# X = [['cyberbullying',1], ['not_cyberbullying', 0]]\n",
    "# print(\"X: \",X)\n",
    "# #binary encode\n",
    "# enc = OneHotEncoder(handle_unknown='ignore')\n",
    "# enc.fit(X)\n",
    "# enc.categories_\n",
    "# enc.transform([['cyberbullying',1], ['not_cyberbullying', 0]]).toarray()\n",
    "# enc.inverse_transform([[1, 1, 0, 0],  [0, 0, 1, 0]])\n",
    "# enc.get_feature_names(['cyberbullying_binary_class', 'group'])\n",
    "# data"
   ]
  },
  {
   "cell_type": "code",
   "execution_count": 9,
   "id": "ff887b61",
   "metadata": {},
   "outputs": [
    {
     "name": "stdout",
     "output_type": "stream",
     "text": [
      "Unique values of the target variable ['0' '1']\n",
      "Counts of the target variable : [ 7945 39747]\n"
     ]
    }
   ],
   "source": [
    "(unique, counts) = np.unique(data['cyberbullying_binary_class'], return_counts=True)\n",
    "print('Unique values of the target variable', unique)\n",
    "print('Counts of the target variable :', counts)\n"
   ]
  },
  {
   "cell_type": "code",
   "execution_count": 10,
   "id": "f0294428",
   "metadata": {},
   "outputs": [
    {
     "data": {
      "image/png": "[encoded data removed]",
      "text/plain": [
       "<Figure size 432x288 with 1 Axes>"
      ]
     },
     "metadata": {
      "needs_background": "light"
     },
     "output_type": "display_data"
    }
   ],
   "source": [
    "my_xticks = ['not_abusive','abusive']\n",
    "\n",
    "sns.barplot(x=unique, y=counts)\n",
    "plt.title('0(non_abusive) vs 1(abusive) Target variable counts in dataset')\n",
    "plt.show()\n"
   ]
  },
  {
   "cell_type": "code",
   "execution_count": 5,
   "id": "c31f56be",
   "metadata": {},
   "outputs": [
    {
     "data": {
      "text/html": [
       "<div>\n",
       "<style scoped>\n",
       "    .dataframe tbody tr th:only-of-type {\n",
       "        vertical-align: middle;\n",
       "    }\n",
       "\n",
       "    .dataframe tbody tr th {\n",
       "        vertical-align: top;\n",
       "    }\n",
       "\n",
       "    .dataframe thead th {\n",
       "        text-align: right;\n",
       "    }\n",
       "</style>\n",
       "<table border=\"1\" class=\"dataframe\">\n",
       "  <thead>\n",
       "    <tr style=\"text-align: right;\">\n",
       "      <th></th>\n",
       "      <th>tweet_text</th>\n",
       "      <th>cyberbullying_type</th>\n",
       "      <th>preprocessed_tweet</th>\n",
       "      <th>tweet_str</th>\n",
       "    </tr>\n",
       "  </thead>\n",
       "  <tbody>\n",
       "    <tr>\n",
       "      <th>0</th>\n",
       "      <td>In other words #katandandre, your food was cra...</td>\n",
       "      <td>not_cyberbullying</td>\n",
       "      <td>[word, katandandr, food, crapilici, mkr]</td>\n",
       "      <td>word,katandandr,food,crapilici,mkr</td>\n",
       "    </tr>\n",
       "    <tr>\n",
       "      <th>1</th>\n",
       "      <td>Why is #aussietv so white? #MKR #theblock #ImA...</td>\n",
       "      <td>not_cyberbullying</td>\n",
       "      <td>[aussietv, white, mkr, theblock, imacelebritya...</td>\n",
       "      <td>aussietv,white,mkr,theblock,imacelebrityau,tod...</td>\n",
       "    </tr>\n",
       "    <tr>\n",
       "      <th>2</th>\n",
       "      <td>@XochitlSuckkks a classy whore? Or more red ve...</td>\n",
       "      <td>not_cyberbullying</td>\n",
       "      <td>[xochitlsuckkk, classi, whore, red, velvet, cu...</td>\n",
       "      <td>xochitlsuckkk,classi,whore,red,velvet,cupcak</td>\n",
       "    </tr>\n",
       "    <tr>\n",
       "      <th>3</th>\n",
       "      <td>@Jason_Gio meh. :P  thanks for the heads up, b...</td>\n",
       "      <td>not_cyberbullying</td>\n",
       "      <td>[jasongio, meh, p, thank, head, concern, anoth...</td>\n",
       "      <td>jasongio,meh,p,thank,head,concern,anoth,angri,...</td>\n",
       "    </tr>\n",
       "    <tr>\n",
       "      <th>4</th>\n",
       "      <td>@RudhoeEnglish This is an ISIS account pretend...</td>\n",
       "      <td>not_cyberbullying</td>\n",
       "      <td>[rudhoeenglish, isi, account, pretend, kurdish...</td>\n",
       "      <td>rudhoeenglish,isi,account,pretend,kurdish,acco...</td>\n",
       "    </tr>\n",
       "  </tbody>\n",
       "</table>\n",
       "</div>"
      ],
      "text/plain": [
       "                                          tweet_text cyberbullying_type  \\\n",
       "0  In other words #katandandre, your food was cra...  not_cyberbullying   \n",
       "1  Why is #aussietv so white? #MKR #theblock #ImA...  not_cyberbullying   \n",
       "2  @XochitlSuckkks a classy whore? Or more red ve...  not_cyberbullying   \n",
       "3  @Jason_Gio meh. :P  thanks for the heads up, b...  not_cyberbullying   \n",
       "4  @RudhoeEnglish This is an ISIS account pretend...  not_cyberbullying   \n",
       "\n",
       "                                  preprocessed_tweet  \\\n",
       "0           [word, katandandr, food, crapilici, mkr]   \n",
       "1  [aussietv, white, mkr, theblock, imacelebritya...   \n",
       "2  [xochitlsuckkk, classi, whore, red, velvet, cu...   \n",
       "3  [jasongio, meh, p, thank, head, concern, anoth...   \n",
       "4  [rudhoeenglish, isi, account, pretend, kurdish...   \n",
       "\n",
       "                                           tweet_str  \n",
       "0                 word,katandandr,food,crapilici,mkr  \n",
       "1  aussietv,white,mkr,theblock,imacelebrityau,tod...  \n",
       "2       xochitlsuckkk,classi,whore,red,velvet,cupcak  \n",
       "3  jasongio,meh,p,thank,head,concern,anoth,angri,...  \n",
       "4  rudhoeenglish,isi,account,pretend,kurdish,acco...  "
      ]
     },
     "execution_count": 5,
     "metadata": {},
     "output_type": "execute_result"
    }
   ],
   "source": [
    "# convert list to string for TF IDF\n",
    "\n",
    "data['tweet_str'] = [','.join(map(str, l)) for l in data['preprocessed_tweet']]\n",
    "data.head()"
   ]
  },
  {
   "cell_type": "code",
   "execution_count": 12,
   "id": "b0556523",
   "metadata": {},
   "outputs": [
    {
     "data": {
      "text/plain": [
       "(47692, 5)"
      ]
     },
     "execution_count": 12,
     "metadata": {},
     "output_type": "execute_result"
    }
   ],
   "source": [
    "# fully cleaned\n",
    "data.shape"
   ]
  },
  {
   "cell_type": "markdown",
   "id": "e7669b5e",
   "metadata": {},
   "source": [
    "# Multi-class Feature Selection & Train Test Split"
   ]
  },
  {
   "cell_type": "code",
   "execution_count": 6,
   "id": "dce04607",
   "metadata": {},
   "outputs": [],
   "source": [
    "from sklearn.model_selection import train_test_split\n",
    "\n",
    "X = data.tweet_str\n",
    "y = data.cyberbullying_type\n",
    "X_train, X_test, y_train, y_test = train_test_split(X, y, test_size=0.3, random_state = 42)\n"
   ]
  },
  {
   "cell_type": "code",
   "execution_count": 14,
   "id": "871c2a6c",
   "metadata": {},
   "outputs": [
    {
     "name": "stdout",
     "output_type": "stream",
     "text": [
      "(33384,) (14308,) (33384,) (14308,)\n"
     ]
    }
   ],
   "source": [
    "print(X_train.shape, X_test.shape, y_train.shape, y_test.shape)"
   ]
  },
  {
   "cell_type": "code",
   "execution_count": 15,
   "id": "e51218ba",
   "metadata": {},
   "outputs": [
    {
     "data": {
      "text/plain": [
       "(12276    marleygotboob,gay,r,sissi,st8,men,r,run,prison...\n",
       " 17518    newsflashthat,evilanglisti,christian,deplor,ra...\n",
       " 4127     ncweaver,ive,ran,difficulti,get,respond,weird,...\n",
       " 19027    satir,free,speech,pretend,solv,noth,problem,qu...\n",
       " 23449    know,histor,burn,book,nazi,radic,christian,one...\n",
       "                                ...                        \n",
       " 11284    femal,like,roseann,barr,2,hideou,bitch,call,ch...\n",
       " 44732    it,question,dumb,telli,tubbi,ya,clit,fat,pussi...\n",
       " 38158    one,kid,turn,leftist,like,bulli,friend,kid,im,...\n",
       " 860      rt,ravenhuwolf,univers,texasarlington,muslim,s...\n",
       " 15795    doctrinedark798,abl,save,hereright,click,hold,...\n",
       " Name: tweet_str, Length: 33384, dtype: object,\n",
       " 40362    goreejuhssgun,hahaha,aint,even,worth,tweet,dum...\n",
       " 15019    rt,hsaymssik,suck,smile,wipe,face,huh,kat,glas...\n",
       " 46321    remind,absolut,disgust,see,peopl,would,prank,c...\n",
       " 23927    rt,buzzfeeduk,accident,open,front,camera,httpt...\n",
       " 1640                                 love,look,fritter,mkr\n",
       "                                ...                        \n",
       " 43182    timesnow,navikakumar,one,ur,channel,quot,nehru...\n",
       " 19451    muslim,ban,idiot,stop,spread,lie,fals,inform,b...\n",
       " 31466      nayadrikj,stop,take,bathroom,selfi,fuck,peasant\n",
       " 17293    u,radic,islamist,terrorist,everybodi,u,know,ur...\n",
       " 8331     rt,shermertron,humanistfuri,mt89,jennykutn,lov...\n",
       " Name: tweet_str, Length: 14308, dtype: object,\n",
       " 12276               gender\n",
       " 17518             religion\n",
       " 4127     not_cyberbullying\n",
       " 19027             religion\n",
       " 23449             religion\n",
       "                ...        \n",
       " 11284               gender\n",
       " 44732            ethnicity\n",
       " 38158                  age\n",
       " 860      not_cyberbullying\n",
       " 15795               gender\n",
       " Name: cyberbullying_type, Length: 33384, dtype: object,\n",
       " 40362              ethnicity\n",
       " 15019                 gender\n",
       " 46321              ethnicity\n",
       " 23927    other_cyberbullying\n",
       " 1640       not_cyberbullying\n",
       "                 ...         \n",
       " 43182              ethnicity\n",
       " 19451               religion\n",
       " 31466    other_cyberbullying\n",
       " 17293               religion\n",
       " 8331                  gender\n",
       " Name: cyberbullying_type, Length: 14308, dtype: object)"
      ]
     },
     "execution_count": 15,
     "metadata": {},
     "output_type": "execute_result"
    }
   ],
   "source": [
    "X_train, X_test, y_train, y_test"
   ]
  },
  {
   "cell_type": "markdown",
   "id": "db05c7f3",
   "metadata": {},
   "source": [
    "# TF IDF matrix"
   ]
  },
  {
   "cell_type": "code",
   "execution_count": 7,
   "id": "fe8b07a9",
   "metadata": {},
   "outputs": [],
   "source": [
    "#tf idf vectorizer \n",
    "tf_idf = TfidfVectorizer()\n",
    "\n",
    "#applying tf idf to training data\n",
    "X_train_tf = tf_idf.fit_transform(X_train)\n",
    "\n",
    "#applying tf idf to training data\n",
    "X_train_tf = tf_idf.transform(X_train)"
   ]
  },
  {
   "cell_type": "code",
   "execution_count": 8,
   "id": "ccb19b2a",
   "metadata": {},
   "outputs": [
    {
     "name": "stdout",
     "output_type": "stream",
     "text": [
      "n_samples: 33384, n_features: 43018\n"
     ]
    }
   ],
   "source": [
    "print(\"n_samples: %d, n_features: %d\" % X_train_tf.shape)"
   ]
  },
  {
   "cell_type": "code",
   "execution_count": 9,
   "id": "5e18227a",
   "metadata": {},
   "outputs": [],
   "source": [
    "#transforming test data into tf-idf matrix\n",
    "X_test_tf = tf_idf.transform(X_test)"
   ]
  },
  {
   "cell_type": "code",
   "execution_count": 19,
   "id": "a37dff90",
   "metadata": {},
   "outputs": [
    {
     "name": "stdout",
     "output_type": "stream",
     "text": [
      "n_samples: 14308, n_features: 43018\n"
     ]
    }
   ],
   "source": [
    "print(\"n_samples: %d, n_features: %d\" % X_test_tf.shape)"
   ]
  },
  {
   "cell_type": "code",
   "execution_count": 27,
   "id": "19db5607",
   "metadata": {},
   "outputs": [
    {
     "name": "stdout",
     "output_type": "stream",
     "text": [
      "TF.IDF matrix:\n",
      "\n",
      "   (0, 42139)\t0.34765924613902005\n",
      "  (0, 39753)\t0.24860440561021702\n",
      "  (0, 27926)\t0.1529300223425951\n",
      "  (0, 27908)\t0.25833377043494893\n",
      "  (0, 22978)\t0.43658869866483874\n",
      "  (0, 15175)\t0.3426866651827557\n",
      "  (0, 13444)\t0.14177950939025594\n",
      "  (0, 11858)\t0.21122944007865876\n",
      "  (0, 10875)\t0.1550449670936286\n",
      "  (0, 10506)\t0.1794991269085139\n",
      "  (0, 9996)\t0.4140722893108974\n",
      "  (0, 2337)\t0.19846717221170293\n",
      "  (0, 1758)\t0.2955298019941715\n",
      "  (1, 41883)\t0.3419105123865329\n",
      "  (1, 38753)\t0.283051136614599\n",
      "  (1, 37022)\t0.2645530200825739\n",
      "  (1, 36759)\t0.3183140133668512\n",
      "  (1, 35773)\t0.33360504088740084\n",
      "  (1, 33491)\t0.14972022530585335\n",
      "  (1, 26378)\t0.29235175297431953\n",
      "  (1, 26375)\t0.17089375387583505\n",
      "  (1, 22342)\t0.23302188930687887\n",
      "  (1, 19258)\t0.3100653872195761\n",
      "  (1, 16359)\t0.26201263806933067\n",
      "  (1, 14329)\t0.3285198715715377\n",
      "  :\t:\n",
      "  (14305, 27529)\t0.4831048971002629\n",
      "  (14305, 13444)\t0.1531357480529151\n",
      "  (14305, 4100)\t0.40385999378984644\n",
      "  (14306, 42105)\t0.25153068981982535\n",
      "  (14306, 40476)\t0.22841677989249926\n",
      "  (14306, 38060)\t0.22841677989249926\n",
      "  (14306, 38014)\t0.2387015847058435\n",
      "  (14306, 37052)\t0.3552641162186419\n",
      "  (14306, 32389)\t0.3478619856527797\n",
      "  (14306, 31976)\t0.23695269865804183\n",
      "  (14306, 29612)\t0.39566183469153976\n",
      "  (14306, 22957)\t0.19546499869497258\n",
      "  (14306, 20592)\t0.34724100594896445\n",
      "  (14306, 20560)\t0.20217536818809245\n",
      "  (14306, 11874)\t0.34034134522239323\n",
      "  (14307, 35033)\t0.3643119018969336\n",
      "  (14307, 33491)\t0.1450848697865364\n",
      "  (14307, 26923)\t0.2981080685225101\n",
      "  (14307, 24437)\t0.1934827743850776\n",
      "  (14307, 21851)\t0.3122999606111537\n",
      "  (14307, 21850)\t0.34294030368874656\n",
      "  (14307, 21295)\t0.44861013554078527\n",
      "  (14307, 19278)\t0.381275493727042\n",
      "  (14307, 8634)\t0.2981080685225101\n",
      "  (14307, 5063)\t0.2632364347055585\n"
     ]
    }
   ],
   "source": [
    "print(\"TF.IDF matrix:\\n\\n\",X_test_tf)"
   ]
  },
  {
   "cell_type": "code",
   "execution_count": 10,
   "id": "89d52f56",
   "metadata": {},
   "outputs": [],
   "source": [
    "# Instantiate the CountVectorizer method\n",
    "count_vector = CountVectorizer(stop_words = 'english', lowercase = True)\n",
    "\n",
    "# Fit the training data and then return the matrix\n",
    "training_data = count_vector.fit_transform(X_train)\n",
    "\n",
    "# Transform testing data and return the matrix. Note we are not fitting the testing data into the CountVectorizer()\n",
    "testing_data = count_vector.transform(X_test)"
   ]
  },
  {
   "cell_type": "code",
   "execution_count": 15,
   "id": "099e1a95",
   "metadata": {},
   "outputs": [],
   "source": [
    "# KNN bagging\n",
    "\n",
    "KNNbagging = BaggingClassifier(KNeighborsClassifier(), max_samples=0.5, max_features=0.5)\n",
    "\n",
    "cv = RepeatedStratifiedKFold(n_splits=10, n_repeats=3, random_state=1)\n",
    "n_scores = cross_val_score(KNNbagging, X_train_tf, y_train, scoring='accuracy', cv=cv, n_jobs=-1, error_score='raise')"
   ]
  },
  {
   "cell_type": "code",
   "execution_count": 17,
   "id": "8d7688f1",
   "metadata": {},
   "outputs": [
    {
     "name": "stdout",
     "output_type": "stream",
     "text": [
      "Accuracy: 0.625 (0.016)\n"
     ]
    }
   ],
   "source": [
    "# KNN Bagging performance\n",
    "print('Accuracy: %.3f (%.3f)' % (np.mean(n_scores), np.std(n_scores)))"
   ]
  },
  {
   "cell_type": "markdown",
   "id": "a896310b",
   "metadata": {},
   "source": [
    "# Multinomial Naive Bayes"
   ]
  },
  {
   "cell_type": "code",
   "execution_count": 29,
   "id": "1259dcba",
   "metadata": {},
   "outputs": [
    {
     "data": {
      "text/plain": [
       "MultinomialNB()"
      ]
     },
     "execution_count": 29,
     "metadata": {},
     "output_type": "execute_result"
    }
   ],
   "source": [
    "#naive bayes classifier\n",
    "naive_bayes_classifier = MultinomialNB()\n",
    "naive_bayes_classifier.fit(X_train_tf, y_train)"
   ]
  },
  {
   "cell_type": "code",
   "execution_count": 30,
   "id": "9e35872c",
   "metadata": {},
   "outputs": [],
   "source": [
    "#predicted y\n",
    "y_pred = naive_bayes_classifier.predict(X_test_tf)"
   ]
  },
  {
   "cell_type": "code",
   "execution_count": 31,
   "id": "7c37da05",
   "metadata": {},
   "outputs": [
    {
     "data": {
      "text/plain": [
       "religion               7998\n",
       "age                    7992\n",
       "gender                 7973\n",
       "ethnicity              7961\n",
       "not_cyberbullying      7945\n",
       "other_cyberbullying    7823\n",
       "Name: cyberbullying_type, dtype: int64"
      ]
     },
     "execution_count": 31,
     "metadata": {},
     "output_type": "execute_result"
    }
   ],
   "source": [
    "# remind of target names\n",
    "data['cyberbullying_type'].value_counts()"
   ]
  },
  {
   "cell_type": "code",
   "execution_count": 32,
   "id": "11883c5c",
   "metadata": {},
   "outputs": [
    {
     "name": "stdout",
     "output_type": "stream",
     "text": [
      "                     precision    recall  f1-score   support\n",
      "\n",
      "           religion       0.66      0.99      0.79      2349\n",
      "                age       0.84      0.89      0.87      2418\n",
      "             gender       0.81      0.85      0.83      2343\n",
      "          ethnicity       0.72      0.33      0.46      2466\n",
      "  not_cyberbullying       0.66      0.44      0.53      2391\n",
      "other_cyberbullying       0.76      0.98      0.85      2341\n",
      "\n",
      "           accuracy                           0.74     14308\n",
      "          macro avg       0.74      0.75      0.72     14308\n",
      "       weighted avg       0.74      0.74      0.72     14308\n",
      "\n"
     ]
    }
   ],
   "source": [
    "print(metrics.classification_report(y_test, y_pred, target_names=['religion','age','gender','ethnicity','not_cyberbullying','other_cyberbullying']))"
   ]
  },
  {
   "cell_type": "code",
   "execution_count": 33,
   "id": "e1597e35",
   "metadata": {},
   "outputs": [
    {
     "name": "stdout",
     "output_type": "stream",
     "text": [
      "Confusion matrix:\n",
      "[[2318    8    4    1    1   17]\n",
      " [ 129 2163   19    1   10   96]\n",
      " [  76   68 1996   82   57   64]\n",
      " [ 506  132  216  823  460  329]\n",
      " [ 453  203  228  232 1043  232]\n",
      " [  25    7   10   12    3 2284]]\n"
     ]
    }
   ],
   "source": [
    "# check confusion matrix\n",
    "print(\"Confusion matrix:\")\n",
    "print(metrics.confusion_matrix(y_test, y_pred))"
   ]
  },
  {
   "cell_type": "markdown",
   "id": "5d0f6fe9",
   "metadata": {},
   "source": [
    "# SVM binary classifier"
   ]
  },
  {
   "cell_type": "code",
   "execution_count": 34,
   "id": "e9aa65bc",
   "metadata": {},
   "outputs": [
    {
     "name": "stdout",
     "output_type": "stream",
     "text": [
      "(33384,) (14308,) (33384,) (14308,)\n"
     ]
    }
   ],
   "source": [
    "from sklearn.model_selection import train_test_split\n",
    "\n",
    "X_bi = data.tweet_str\n",
    "y_bi = data.cyberbullying_binary_class\n",
    "X_train, X_test, y_train, y_test = train_test_split(X_bi, y_bi, test_size=0.3, random_state = 42)\n",
    "print(X_train.shape, X_test.shape, y_train.shape, y_test.shape)"
   ]
  },
  {
   "cell_type": "code",
   "execution_count": 35,
   "id": "b3bfc7a5",
   "metadata": {},
   "outputs": [
    {
     "data": {
      "text/plain": [
       "(12276    marleygotboob,gay,r,sissi,st8,men,r,run,prison...\n",
       " 17518    newsflashthat,evilanglisti,christian,deplor,ra...\n",
       " 4127     ncweaver,ive,ran,difficulti,get,respond,weird,...\n",
       " 19027    satir,free,speech,pretend,solv,noth,problem,qu...\n",
       " 23449    know,histor,burn,book,nazi,radic,christian,one...\n",
       "                                ...                        \n",
       " 11284    femal,like,roseann,barr,2,hideou,bitch,call,ch...\n",
       " 44732    it,question,dumb,telli,tubbi,ya,clit,fat,pussi...\n",
       " 38158    one,kid,turn,leftist,like,bulli,friend,kid,im,...\n",
       " 860      rt,ravenhuwolf,univers,texasarlington,muslim,s...\n",
       " 15795    doctrinedark798,abl,save,hereright,click,hold,...\n",
       " Name: tweet_str, Length: 33384, dtype: object,\n",
       " 40362    goreejuhssgun,hahaha,aint,even,worth,tweet,dum...\n",
       " 15019    rt,hsaymssik,suck,smile,wipe,face,huh,kat,glas...\n",
       " 46321    remind,absolut,disgust,see,peopl,would,prank,c...\n",
       " 23927    rt,buzzfeeduk,accident,open,front,camera,httpt...\n",
       " 1640                                 love,look,fritter,mkr\n",
       "                                ...                        \n",
       " 43182    timesnow,navikakumar,one,ur,channel,quot,nehru...\n",
       " 19451    muslim,ban,idiot,stop,spread,lie,fals,inform,b...\n",
       " 31466      nayadrikj,stop,take,bathroom,selfi,fuck,peasant\n",
       " 17293    u,radic,islamist,terrorist,everybodi,u,know,ur...\n",
       " 8331     rt,shermertron,humanistfuri,mt89,jennykutn,lov...\n",
       " Name: tweet_str, Length: 14308, dtype: object,\n",
       " 12276    1\n",
       " 17518    1\n",
       " 4127     0\n",
       " 19027    1\n",
       " 23449    1\n",
       "         ..\n",
       " 11284    1\n",
       " 44732    1\n",
       " 38158    1\n",
       " 860      0\n",
       " 15795    1\n",
       " Name: cyberbullying_binary_class, Length: 33384, dtype: object,\n",
       " 40362    1\n",
       " 15019    1\n",
       " 46321    1\n",
       " 23927    1\n",
       " 1640     0\n",
       "         ..\n",
       " 43182    1\n",
       " 19451    1\n",
       " 31466    1\n",
       " 17293    1\n",
       " 8331     1\n",
       " Name: cyberbullying_binary_class, Length: 14308, dtype: object)"
      ]
     },
     "execution_count": 35,
     "metadata": {},
     "output_type": "execute_result"
    }
   ],
   "source": [
    "X_train, X_test, y_train, y_test"
   ]
  },
  {
   "cell_type": "code",
   "execution_count": 36,
   "id": "ff0503b6",
   "metadata": {},
   "outputs": [],
   "source": [
    "# binary TF IDF\n",
    "#tf idf vectorizer \n",
    "tf_idf = TfidfVectorizer()\n",
    "\n",
    "#applying tf idf to training data\n",
    "X_train_tf = tf_idf.fit_transform(X_train)\n",
    "\n",
    "#applying tf idf to training data\n",
    "X_train_tf = tf_idf.transform(X_train)\n",
    "\n",
    "#transforming test data into tf-idf matrix\n",
    "X_test_tf = tf_idf.transform(X_test)\n",
    "\n",
    "# Instantiate the CountVectorizer method\n",
    "count_vector = CountVectorizer(stop_words = 'english', lowercase = True)\n",
    "\n",
    "# Fit the training data and then return the matrix\n",
    "training_data = count_vector.fit_transform(X_train)\n",
    "\n",
    "# Transform testing data and return the matrix. Note we are not fitting the testing data into the CountVectorizer()\n",
    "testing_data = count_vector.transform(X_test)"
   ]
  },
  {
   "cell_type": "code",
   "execution_count": 38,
   "id": "b51509f8",
   "metadata": {},
   "outputs": [
    {
     "name": "stdout",
     "output_type": "stream",
     "text": [
      "              precision    recall  f1-score   support\n",
      "\n",
      "           1       0.61      0.45      0.52      2466\n",
      "           0       0.89      0.94      0.92     11842\n",
      "\n",
      "    accuracy                           0.86     14308\n",
      "   macro avg       0.75      0.70      0.72     14308\n",
      "weighted avg       0.84      0.86      0.85     14308\n",
      "\n"
     ]
    }
   ],
   "source": [
    "# linear SVM classifier\n",
    "from sklearn.svm import LinearSVC\n",
    "SVM = LinearSVC()\n",
    "SVM.fit(X_train_tf, y_train)\n",
    "\n",
    "#predicted y\n",
    "y_pred = SVM.predict(X_test_tf)\n",
    "\n",
    "print(metrics.classification_report(y_test, y_pred, target_names=['1','0']))"
   ]
  },
  {
   "cell_type": "code",
   "execution_count": 39,
   "id": "37fd487c",
   "metadata": {},
   "outputs": [
    {
     "name": "stdout",
     "output_type": "stream",
     "text": [
      "Confusion matrix:\n",
      "[[ 1121  1345]\n",
      " [  702 11140]]\n"
     ]
    }
   ],
   "source": [
    "# check confusion matrix\n",
    "print(\"Confusion matrix:\")\n",
    "print(metrics.confusion_matrix(y_test, y_pred))"
   ]
  }
 ],
 "metadata": {
  "kernelspec": {
   "display_name": "Python 3",
   "language": "python",
   "name": "python3"
  },
  "language_info": {
   "codemirror_mode": {
    "name": "ipython",
    "version": 3
   },
   "file_extension": ".py",
   "mimetype": "text/x-python",
   "name": "python",
   "nbconvert_exporter": "python",
   "pygments_lexer": "ipython3",
   "version": "3.7.8"
  }
 },
 "nbformat": 4,
 "nbformat_minor": 5
}
